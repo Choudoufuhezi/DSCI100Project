{
 "cells": [
  {
   "cell_type": "code",
   "execution_count": null,
   "metadata": {},
   "outputs": [],
   "source": [
    "# Import packages\n",
    "library(tidyverse)\n",
    "library(tidymodels)"
   ]
  },
  {
   "cell_type": "code",
   "execution_count": null,
   "metadata": {},
   "outputs": [],
   "source": [
    "# Read csv file\n",
    "# Source: https://archive.ics.uci.edu/ml/datasets/HTRU2\n",
    "htru_data <- read_csv('https://raw.githubusercontent.com/iaujla01/DSCI100Project/main/data/HTRU_2.csv', col_names = FALSE)\n",
    "\n",
    "# Adding column names: \n",
    "# 1. Mean of the integrated profile\n",
    "# 2. Standard deviation of the integrated profile\n",
    "# 3. Excess kurtosis of the integrated profile \n",
    "# 4. Skewness of the integrated profile\n",
    "# 5. Mean of the DM-SNR curve\n",
    "# 6. Standard deviation of the DM-SNR curve\n",
    "# 7. Excess kurtosis of the DM-SNR curve\n",
    "# 8. Skewness of the DM-SNR curve\n",
    "# 9. Class\n",
    "colnames(htru_data) <- c('mean_ip', 'sd_ip', 'kurtosis_ip', 'skew_ip', 'mean_dmsnr', 'sd_dmsnr', 'kurtosis_dmsnr', 'skew_dmsnr', 'class')\n",
    "htru_data <- htru_data %>% \n",
    "    mutate(class = as.factor(class)) # since class is a dummy variable that is either positive (1) or negative (0)\n",
    "head(htru_data)"
   ]
  },
  {
   "cell_type": "code",
   "execution_count": null,
   "metadata": {},
   "outputs": [],
   "source": [
    "# 17,898 total examples; 1,639 positive examples; 16,259 negative examples\n",
    "# Decide to split dataset into 75% training and 25% testing\n",
    "\n",
    "htru_split <- initial_split(htru_data, prop = 0.75, strata = class)\n",
    "htru_train <- training(htru_split)\n",
    "htru_test <- testing(htru_split)\n",
    "\n",
    "glimpse(htru_train)\n",
    "glimpse(htru_test)"
   ]
  },
  {
   "cell_type": "code",
   "execution_count": null,
   "metadata": {},
   "outputs": [],
   "source": [
    "options(repr.plot.height = 5, repr.plot.width = 6)\n",
    "set.seed(3456)  \n",
    "\n",
    "htru_tune <- nearest_neighbor(weight_func = \"rectangular\", \n",
    "                              neighbors = tune()) %>%\n",
    "                              set_engine(\"kknn\") %>%\n",
    "                              set_mode(\"classification\")\n",
    "\n",
    "htru_recipe <- recipe(class ~. , data = htru_train)%>%\n",
    "               step_scale(all_predictors()) %>%\n",
    "               step_center(all_predictors())"
   ]
  },
  {
   "cell_type": "code",
   "execution_count": null,
   "metadata": {},
   "outputs": [],
   "source": [
    "\n",
    "htru_vfold <- vfold_cv(htru_train, v = 5, strata = class)\n",
    "#have tried more folds, but no staticall significants. \n",
    "gridvals <- tibble(neighbors = 1:200)\n",
    "htru_results <- workflow() %>%\n",
    "       add_recipe(htru_recipe) %>%\n",
    "       add_model(htru_tune) %>%\n",
    "       tune_grid(resamples = htru_vfold, grid = gridvals) %>%\n",
    "       collect_metrics()\n",
    "\n",
    "accuracies <- htru_results %>% \n",
    "       filter(.metric == \"accuracy\")"
   ]
  },
  {
   "cell_type": "code",
   "execution_count": null,
   "metadata": {},
   "outputs": [],
   "source": [
    "\n",
    "cross_val_plot  <- ggplot(accuracies, aes(x = neighbors, y = mean))+\n",
    "       geom_point() +\n",
    "       geom_line() +\n",
    "       labs(x = \"Neighbors\", y = \"Accuracy Estimate\") +\n",
    "       scale_x_continuous(breaks = seq(0, 14, by = 1))\n",
    "\n",
    "cross_val_plot \n",
    "\n"
   ]
  },
  {
   "cell_type": "code",
   "execution_count": null,
   "metadata": {},
   "outputs": [],
   "source": [
    "htru_max <- htru_results %>%\n",
    "  filter(mean == max(mean))\n",
    "\n",
    "\n",
    "htru_max_number <- htru_max %>%\n",
    "          pull(neighbors)%>%\n",
    "          as.integer()\n",
    "\n",
    "htru_spec_max <- nearest_neighbor(weight_func = \"rectangular\", neighbors = htru_max_number) %>%\n",
    "  set_engine(\"kknn\") %>%\n",
    "  set_mode(\"classification\")\n",
    "\n",
    "\n",
    "htru_fit <- workflow() %>%\n",
    "  add_recipe(htru_recipe) %>%\n",
    "  add_model(htru_spec_max) %>%\n",
    "  fit(data = htru_train)\n",
    "\n",
    "htru_summary <- htru_fit %>%\n",
    "  predict(htru_test) %>%\n",
    "  bind_cols(htru_test) %>%\n",
    "  metrics(truth = class, estimate = .pred_class) %>%\n",
    "  filter(.metric == 'accuracy')\n",
    "\n",
    "htru_summary\n"
   ]
  },
  {
   "cell_type": "code",
   "execution_count": null,
   "metadata": {},
   "outputs": [],
   "source": []
  },
  {
   "cell_type": "code",
   "execution_count": null,
   "metadata": {},
   "outputs": [],
   "source": []
  }
 ],
 "metadata": {
  "kernelspec": {
   "display_name": "R",
   "language": "R",
   "name": "ir"
  },
  "language_info": {
   "codemirror_mode": "r",
   "file_extension": ".r",
   "mimetype": "text/x-r-source",
   "name": "R",
   "pygments_lexer": "r",
   "version": "4.0.0"
  }
 },
 "nbformat": 4,
 "nbformat_minor": 4
}
