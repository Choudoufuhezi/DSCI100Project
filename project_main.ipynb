{
 "cells": [
  {
   "cell_type": "code",
   "execution_count": 2,
   "metadata": {},
   "outputs": [
    {
     "name": "stderr",
     "output_type": "stream",
     "text": [
      "── \u001b[1mAttaching packages\u001b[22m ─────────────────────────────────────── tidyverse 1.3.0 ──\n",
      "\n",
      "\u001b[32m✔\u001b[39m \u001b[34mggplot2\u001b[39m 3.3.2     \u001b[32m✔\u001b[39m \u001b[34mpurrr  \u001b[39m 0.3.4\n",
      "\u001b[32m✔\u001b[39m \u001b[34mtibble \u001b[39m 3.0.3     \u001b[32m✔\u001b[39m \u001b[34mdplyr  \u001b[39m 1.0.2\n",
      "\u001b[32m✔\u001b[39m \u001b[34mtidyr  \u001b[39m 1.1.2     \u001b[32m✔\u001b[39m \u001b[34mstringr\u001b[39m 1.4.0\n",
      "\u001b[32m✔\u001b[39m \u001b[34mreadr  \u001b[39m 1.3.1     \u001b[32m✔\u001b[39m \u001b[34mforcats\u001b[39m 0.5.0\n",
      "\n",
      "Warning message:\n",
      "“package ‘ggplot2’ was built under R version 4.0.1”\n",
      "Warning message:\n",
      "“package ‘tibble’ was built under R version 4.0.2”\n",
      "Warning message:\n",
      "“package ‘tidyr’ was built under R version 4.0.2”\n",
      "Warning message:\n",
      "“package ‘dplyr’ was built under R version 4.0.2”\n",
      "── \u001b[1mConflicts\u001b[22m ────────────────────────────────────────── tidyverse_conflicts() ──\n",
      "\u001b[31m✖\u001b[39m \u001b[34mdplyr\u001b[39m::\u001b[32mfilter()\u001b[39m masks \u001b[34mstats\u001b[39m::filter()\n",
      "\u001b[31m✖\u001b[39m \u001b[34mdplyr\u001b[39m::\u001b[32mlag()\u001b[39m    masks \u001b[34mstats\u001b[39m::lag()\n",
      "\n",
      "Warning message:\n",
      "“package ‘tidymodels’ was built under R version 4.0.2”\n",
      "── \u001b[1mAttaching packages\u001b[22m ────────────────────────────────────── tidymodels 0.1.1 ──\n",
      "\n",
      "\u001b[32m✔\u001b[39m \u001b[34mbroom    \u001b[39m 0.7.0      \u001b[32m✔\u001b[39m \u001b[34mrecipes  \u001b[39m 0.1.13\n",
      "\u001b[32m✔\u001b[39m \u001b[34mdials    \u001b[39m 0.0.9      \u001b[32m✔\u001b[39m \u001b[34mrsample  \u001b[39m 0.0.7 \n",
      "\u001b[32m✔\u001b[39m \u001b[34minfer    \u001b[39m 0.5.4      \u001b[32m✔\u001b[39m \u001b[34mtune     \u001b[39m 0.1.1 \n",
      "\u001b[32m✔\u001b[39m \u001b[34mmodeldata\u001b[39m 0.0.2      \u001b[32m✔\u001b[39m \u001b[34mworkflows\u001b[39m 0.2.0 \n",
      "\u001b[32m✔\u001b[39m \u001b[34mparsnip  \u001b[39m 0.1.3      \u001b[32m✔\u001b[39m \u001b[34myardstick\u001b[39m 0.0.7 \n",
      "\n",
      "Warning message:\n",
      "“package ‘broom’ was built under R version 4.0.2”\n",
      "Warning message:\n",
      "“package ‘dials’ was built under R version 4.0.2”\n",
      "Warning message:\n",
      "“package ‘infer’ was built under R version 4.0.3”\n",
      "Warning message:\n",
      "“package ‘modeldata’ was built under R version 4.0.1”\n",
      "Warning message:\n",
      "“package ‘parsnip’ was built under R version 4.0.2”\n",
      "Warning message:\n",
      "“package ‘recipes’ was built under R version 4.0.1”\n",
      "Warning message:\n",
      "“package ‘tune’ was built under R version 4.0.2”\n",
      "Warning message:\n",
      "“package ‘workflows’ was built under R version 4.0.2”\n",
      "Warning message:\n",
      "“package ‘yardstick’ was built under R version 4.0.2”\n",
      "── \u001b[1mConflicts\u001b[22m ───────────────────────────────────────── tidymodels_conflicts() ──\n",
      "\u001b[31m✖\u001b[39m \u001b[34mscales\u001b[39m::\u001b[32mdiscard()\u001b[39m masks \u001b[34mpurrr\u001b[39m::discard()\n",
      "\u001b[31m✖\u001b[39m \u001b[34mdplyr\u001b[39m::\u001b[32mfilter()\u001b[39m   masks \u001b[34mstats\u001b[39m::filter()\n",
      "\u001b[31m✖\u001b[39m \u001b[34mrecipes\u001b[39m::\u001b[32mfixed()\u001b[39m  masks \u001b[34mstringr\u001b[39m::fixed()\n",
      "\u001b[31m✖\u001b[39m \u001b[34mdplyr\u001b[39m::\u001b[32mlag()\u001b[39m      masks \u001b[34mstats\u001b[39m::lag()\n",
      "\u001b[31m✖\u001b[39m \u001b[34myardstick\u001b[39m::\u001b[32mspec()\u001b[39m masks \u001b[34mreadr\u001b[39m::spec()\n",
      "\u001b[31m✖\u001b[39m \u001b[34mrecipes\u001b[39m::\u001b[32mstep()\u001b[39m   masks \u001b[34mstats\u001b[39m::step()\n",
      "\n"
     ]
    }
   ],
   "source": [
    "# Import packages\n",
    "library(tidyverse)\n",
    "library(tidymodels)"
   ]
  },
  {
   "cell_type": "code",
   "execution_count": 3,
   "metadata": {},
   "outputs": [
    {
     "name": "stderr",
     "output_type": "stream",
     "text": [
      "Parsed with column specification:\n",
      "cols(\n",
      "  X1 = \u001b[32mcol_double()\u001b[39m,\n",
      "  X2 = \u001b[32mcol_double()\u001b[39m,\n",
      "  X3 = \u001b[32mcol_double()\u001b[39m,\n",
      "  X4 = \u001b[32mcol_double()\u001b[39m,\n",
      "  X5 = \u001b[32mcol_double()\u001b[39m,\n",
      "  X6 = \u001b[32mcol_double()\u001b[39m,\n",
      "  X7 = \u001b[32mcol_double()\u001b[39m,\n",
      "  X8 = \u001b[32mcol_double()\u001b[39m,\n",
      "  X9 = \u001b[32mcol_double()\u001b[39m\n",
      ")\n",
      "\n"
     ]
    },
    {
     "data": {
      "text/html": [
       "<table>\n",
       "<caption>A tibble: 6 × 9</caption>\n",
       "<thead>\n",
       "\t<tr><th scope=col>mean_ip</th><th scope=col>sd_ip</th><th scope=col>kurtosis_ip</th><th scope=col>skew_ip</th><th scope=col>mean_dmsnr</th><th scope=col>sd_dmsnr</th><th scope=col>kurtosis_dmsnr</th><th scope=col>skew_dmsnr</th><th scope=col>class</th></tr>\n",
       "\t<tr><th scope=col>&lt;dbl&gt;</th><th scope=col>&lt;dbl&gt;</th><th scope=col>&lt;dbl&gt;</th><th scope=col>&lt;dbl&gt;</th><th scope=col>&lt;dbl&gt;</th><th scope=col>&lt;dbl&gt;</th><th scope=col>&lt;dbl&gt;</th><th scope=col>&lt;dbl&gt;</th><th scope=col>&lt;fct&gt;</th></tr>\n",
       "</thead>\n",
       "<tbody>\n",
       "\t<tr><td>140.56250</td><td>55.68378</td><td>-0.23457141</td><td>-0.6996484</td><td>3.199833</td><td>19.11043</td><td> 7.975532</td><td> 74.24222</td><td>0</td></tr>\n",
       "\t<tr><td>102.50781</td><td>58.88243</td><td> 0.46531815</td><td>-0.5150879</td><td>1.677258</td><td>14.86015</td><td>10.576487</td><td>127.39358</td><td>0</td></tr>\n",
       "\t<tr><td>103.01562</td><td>39.34165</td><td> 0.32332837</td><td> 1.0511644</td><td>3.121237</td><td>21.74467</td><td> 7.735822</td><td> 63.17191</td><td>0</td></tr>\n",
       "\t<tr><td>136.75000</td><td>57.17845</td><td>-0.06841464</td><td>-0.6362384</td><td>3.642977</td><td>20.95928</td><td> 6.896499</td><td> 53.59366</td><td>0</td></tr>\n",
       "\t<tr><td> 88.72656</td><td>40.67223</td><td> 0.60086608</td><td> 1.1234917</td><td>1.178930</td><td>11.46872</td><td>14.269573</td><td>252.56731</td><td>0</td></tr>\n",
       "\t<tr><td> 93.57031</td><td>46.69811</td><td> 0.53190485</td><td> 0.4167211</td><td>1.636288</td><td>14.54507</td><td>10.621748</td><td>131.39400</td><td>0</td></tr>\n",
       "</tbody>\n",
       "</table>\n"
      ],
      "text/latex": [
       "A tibble: 6 × 9\n",
       "\\begin{tabular}{lllllllll}\n",
       " mean\\_ip & sd\\_ip & kurtosis\\_ip & skew\\_ip & mean\\_dmsnr & sd\\_dmsnr & kurtosis\\_dmsnr & skew\\_dmsnr & class\\\\\n",
       " <dbl> & <dbl> & <dbl> & <dbl> & <dbl> & <dbl> & <dbl> & <dbl> & <fct>\\\\\n",
       "\\hline\n",
       "\t 140.56250 & 55.68378 & -0.23457141 & -0.6996484 & 3.199833 & 19.11043 &  7.975532 &  74.24222 & 0\\\\\n",
       "\t 102.50781 & 58.88243 &  0.46531815 & -0.5150879 & 1.677258 & 14.86015 & 10.576487 & 127.39358 & 0\\\\\n",
       "\t 103.01562 & 39.34165 &  0.32332837 &  1.0511644 & 3.121237 & 21.74467 &  7.735822 &  63.17191 & 0\\\\\n",
       "\t 136.75000 & 57.17845 & -0.06841464 & -0.6362384 & 3.642977 & 20.95928 &  6.896499 &  53.59366 & 0\\\\\n",
       "\t  88.72656 & 40.67223 &  0.60086608 &  1.1234917 & 1.178930 & 11.46872 & 14.269573 & 252.56731 & 0\\\\\n",
       "\t  93.57031 & 46.69811 &  0.53190485 &  0.4167211 & 1.636288 & 14.54507 & 10.621748 & 131.39400 & 0\\\\\n",
       "\\end{tabular}\n"
      ],
      "text/markdown": [
       "\n",
       "A tibble: 6 × 9\n",
       "\n",
       "| mean_ip &lt;dbl&gt; | sd_ip &lt;dbl&gt; | kurtosis_ip &lt;dbl&gt; | skew_ip &lt;dbl&gt; | mean_dmsnr &lt;dbl&gt; | sd_dmsnr &lt;dbl&gt; | kurtosis_dmsnr &lt;dbl&gt; | skew_dmsnr &lt;dbl&gt; | class &lt;fct&gt; |\n",
       "|---|---|---|---|---|---|---|---|---|\n",
       "| 140.56250 | 55.68378 | -0.23457141 | -0.6996484 | 3.199833 | 19.11043 |  7.975532 |  74.24222 | 0 |\n",
       "| 102.50781 | 58.88243 |  0.46531815 | -0.5150879 | 1.677258 | 14.86015 | 10.576487 | 127.39358 | 0 |\n",
       "| 103.01562 | 39.34165 |  0.32332837 |  1.0511644 | 3.121237 | 21.74467 |  7.735822 |  63.17191 | 0 |\n",
       "| 136.75000 | 57.17845 | -0.06841464 | -0.6362384 | 3.642977 | 20.95928 |  6.896499 |  53.59366 | 0 |\n",
       "|  88.72656 | 40.67223 |  0.60086608 |  1.1234917 | 1.178930 | 11.46872 | 14.269573 | 252.56731 | 0 |\n",
       "|  93.57031 | 46.69811 |  0.53190485 |  0.4167211 | 1.636288 | 14.54507 | 10.621748 | 131.39400 | 0 |\n",
       "\n"
      ],
      "text/plain": [
       "  mean_ip   sd_ip    kurtosis_ip skew_ip    mean_dmsnr sd_dmsnr kurtosis_dmsnr\n",
       "1 140.56250 55.68378 -0.23457141 -0.6996484 3.199833   19.11043  7.975532     \n",
       "2 102.50781 58.88243  0.46531815 -0.5150879 1.677258   14.86015 10.576487     \n",
       "3 103.01562 39.34165  0.32332837  1.0511644 3.121237   21.74467  7.735822     \n",
       "4 136.75000 57.17845 -0.06841464 -0.6362384 3.642977   20.95928  6.896499     \n",
       "5  88.72656 40.67223  0.60086608  1.1234917 1.178930   11.46872 14.269573     \n",
       "6  93.57031 46.69811  0.53190485  0.4167211 1.636288   14.54507 10.621748     \n",
       "  skew_dmsnr class\n",
       "1  74.24222  0    \n",
       "2 127.39358  0    \n",
       "3  63.17191  0    \n",
       "4  53.59366  0    \n",
       "5 252.56731  0    \n",
       "6 131.39400  0    "
      ]
     },
     "metadata": {},
     "output_type": "display_data"
    }
   ],
   "source": [
    "# Read csv file\n",
    "# Source: https://archive.ics.uci.edu/ml/datasets/HTRU2\n",
    "htru_data <- read_csv('https://raw.githubusercontent.com/iaujla01/DSCI100Project/main/data/HTRU_2.csv', col_names = FALSE)\n",
    "\n",
    "# Adding column names: \n",
    "# 1. Mean of the integrated profile\n",
    "# 2. Standard deviation of the integrated profile\n",
    "# 3. Excess kurtosis of the integrated profile \n",
    "# 4. Skewness of the integrated profile\n",
    "# 5. Mean of the DM-SNR curve\n",
    "# 6. Standard deviation of the DM-SNR curve\n",
    "# 7. Excess kurtosis of the DM-SNR curve\n",
    "# 8. Skewness of the DM-SNR curve\n",
    "# 9. Class\n",
    "colnames(htru_data) <- c('mean_ip', 'sd_ip', 'kurtosis_ip', 'skew_ip', 'mean_dmsnr', 'sd_dmsnr', 'kurtosis_dmsnr', 'skew_dmsnr', 'class')\n",
    "htru_data <- htru_data %>% \n",
    "    mutate(class = as.factor(class)) # since class is a dummy variable that is either positive (1) or negative (0)\n",
    "head(htru_data)"
   ]
  },
  {
   "cell_type": "code",
   "execution_count": 4,
   "metadata": {},
   "outputs": [
    {
     "name": "stdout",
     "output_type": "stream",
     "text": [
      "Rows: 13,424\n",
      "Columns: 9\n",
      "$ mean_ip        \u001b[3m\u001b[90m<dbl>\u001b[39m\u001b[23m 102.50781, 88.72656, 93.57031, 119.48438, 107.25000, 1…\n",
      "$ sd_ip          \u001b[3m\u001b[90m<dbl>\u001b[39m\u001b[23m 58.88243, 40.67223, 46.69811, 48.76506, 52.62708, 45.2…\n",
      "$ kurtosis_ip    \u001b[3m\u001b[90m<dbl>\u001b[39m\u001b[23m 0.465318154, 0.600866079, 0.531904850, 0.031460220, 0.…\n",
      "$ skew_ip        \u001b[3m\u001b[90m<dbl>\u001b[39m\u001b[23m -0.51508791, 1.12349169, 0.41672112, -0.11216757, 0.17…\n",
      "$ mean_dmsnr     \u001b[3m\u001b[90m<dbl>\u001b[39m\u001b[23m 1.6772575, 1.1789298, 1.6362876, 0.9991639, 2.3319398,…\n",
      "$ sd_dmsnr       \u001b[3m\u001b[90m<dbl>\u001b[39m\u001b[23m 14.860146, 11.468720, 14.545074, 9.279612, 14.486853, …\n",
      "$ kurtosis_dmsnr \u001b[3m\u001b[90m<dbl>\u001b[39m\u001b[23m 10.576487, 14.269573, 10.621748, 19.206230, 9.001004, …\n",
      "$ skew_dmsnr     \u001b[3m\u001b[90m<dbl>\u001b[39m\u001b[23m 127.39358, 252.56731, 131.39400, 479.75657, 107.97251,…\n",
      "$ class          \u001b[3m\u001b[90m<fct>\u001b[39m\u001b[23m 0, 0, 0, 0, 0, 0, 0, 0, 0, 0, 0, 1, 0, 0, 0, 0, 0, 0, …\n",
      "Rows: 4,474\n",
      "Columns: 9\n",
      "$ mean_ip        \u001b[3m\u001b[90m<dbl>\u001b[39m\u001b[23m 140.56250, 103.01562, 136.75000, 130.38281, 107.25781,…\n",
      "$ sd_ip          \u001b[3m\u001b[90m<dbl>\u001b[39m\u001b[23m 55.68378, 39.34165, 57.17845, 39.84406, 39.49649, 45.5…\n",
      "$ kurtosis_ip    \u001b[3m\u001b[90m<dbl>\u001b[39m\u001b[23m -0.23457141, 0.32332837, -0.06841464, -0.15832276, 0.4…\n",
      "$ skew_ip        \u001b[3m\u001b[90m<dbl>\u001b[39m\u001b[23m -0.69964840, 1.05116443, -0.63623837, 0.38954045, 1.16…\n",
      "$ mean_dmsnr     \u001b[3m\u001b[90m<dbl>\u001b[39m\u001b[23m 3.199833, 3.121237, 3.642977, 1.220736, 4.079431, 2.83…\n",
      "$ sd_dmsnr       \u001b[3m\u001b[90m<dbl>\u001b[39m\u001b[23m 19.11043, 21.74467, 20.95928, 14.37894, 24.98042, 23.1…\n",
      "$ kurtosis_dmsnr \u001b[3m\u001b[90m<dbl>\u001b[39m\u001b[23m 7.975532, 7.735822, 6.896499, 13.539456, 7.397080, 8.9…\n",
      "$ skew_dmsnr     \u001b[3m\u001b[90m<dbl>\u001b[39m\u001b[23m 74.242225, 63.171909, 53.593661, 198.236457, 57.784738…\n",
      "$ class          \u001b[3m\u001b[90m<fct>\u001b[39m\u001b[23m 0, 0, 0, 0, 0, 0, 0, 0, 0, 0, 0, 0, 0, 0, 0, 0, 0, 0, …\n"
     ]
    }
   ],
   "source": [
    "# 17,898 total examples; 1,639 positive examples; 16,259 negative examples\n",
    "# Decide to split dataset into 75% training and 25% testing\n",
    "\n",
    "htru_split <- initial_split(htru_data, prop = 0.75, strata = class)\n",
    "htru_train <- training(htru_split)\n",
    "htru_test <- testing(htru_split)\n",
    "\n",
    "glimpse(htru_train)\n",
    "glimpse(htru_test)"
   ]
  },
  {
   "cell_type": "code",
   "execution_count": 5,
   "metadata": {},
   "outputs": [
    {
     "data": {
      "image/png": "[encoded data removed]",
      "text/plain": [
       "plot without title"
      ]
     },
     "metadata": {
      "image/png": {
       "height": 300,
       "width": 360
      }
     },
     "output_type": "display_data"
    }
   ],
   "source": [
    "options(repr.plot.height = 5, repr.plot.width = 6)\n",
    "\n",
    "htru_tune <- nearest_neighbor(weight_func = \"rectangular\", \n",
    "                              neighbors = tune()) %>%\n",
    "             set_engine(\"kknn\") %>%\n",
    "             set_mode(\"classification\")\n",
    "\n",
    "htru_recipe <- recipe(class ~. , data = htru_train)%>%\n",
    "               step_scale(all_predictors()) %>%\n",
    "               step_center(all_predictors())\n",
    "\n",
    "htru_vfold <- vfold_cv(htru_train, v = 5, strata = class)\n",
    "\n",
    "htru_results <- workflow() %>%\n",
    "       add_recipe(htru_recipe) %>%\n",
    "       add_model(htru_tune) %>%\n",
    "       tune_grid(resamples = htru_vfold, grid = 10) %>%\n",
    "       collect_metrics()\n",
    "\n",
    "accuracies <- htru_results %>% \n",
    "       filter(.metric == \"accuracy\")\n",
    "\n",
    "cross_val_plot  <- ggplot(accuracies, aes(x = neighbors, y = mean))+\n",
    "       geom_point() +\n",
    "       geom_line() +\n",
    "       labs(x = \"Neighbors\", y = \"Accuracy Estimate\") +\n",
    "       scale_x_continuous(breaks = seq(0, 14, by = 1))\n",
    "\n",
    "cross_val_plot "
   ]
  },
  {
   "cell_type": "code",
   "execution_count": null,
   "metadata": {},
   "outputs": [],
   "source": []
  }
 ],
 "metadata": {
  "kernelspec": {
   "display_name": "R",
   "language": "R",
   "name": "ir"
  },
  "language_info": {
   "codemirror_mode": "r",
   "file_extension": ".r",
   "mimetype": "text/x-r-source",
   "name": "R",
   "pygments_lexer": "r",
   "version": "4.0.0"
  }
 },
 "nbformat": 4,
 "nbformat_minor": 4
}
