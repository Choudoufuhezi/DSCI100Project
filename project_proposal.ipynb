{
 "cells": [
  {
   "cell_type": "markdown",
   "metadata": {},
   "source": [
    "# DSCI 100 Project Proposal: Pulsars"
   ]
  },
  {
   "cell_type": "markdown",
   "metadata": {},
   "source": [
    "## Introduction\n",
    "\n",
    "A pulsar is a Neutron star that generates pulses of solar radio emissions (i.e. emits wavelengths of light in periodic bursts) detectable from Earth. The light is generally very bright and can be seen from a distance. Pulsar stars are studied to help scientists study gravitational waves, which could help in studying potential cosmic events such as collisions (Cofield, 2016). \n",
    " \n",
    "Each potential detection (which we’ll call a candidate) is represented numerically by two curves:  the integrated profile and DM-SNR. Since a pulsar periodically emits unique pulses, the integrated profile is used to represent an average of these different pulses (Lorimer and Kramer, 2005; Lyon, 2016). To describe the uncertainty caused by dispersion (where each pulse is detected at different times across frequencies), a dispersion- measure-signal-to-noise (DM-SNR) curve is used (Lyon, 2016). Furthermore, each curve is described by four statistical variables: mean, standard deviation, kurtosis, and skewness.\n",
    " \n",
    "In reality, most candidates are spurious and caused by radio frequency interference and noise, consequently making positive pulsar cases rare to detect. Hence, our goal for this project is to train a model that classifies whether a star is non-pulsar or pulsar star based on 8 variables: the mean, standard deviation, kurtosis, and skewness of the integrated profile and DM-SNR curve. \n",
    "\n",
    "The central question we wish to answer is: SOMEONE PLEASE ADD THE QUESTION"
   ]
  },
  {
   "cell_type": "markdown",
   "metadata": {},
   "source": [
    "## Preliminary Exploratory Data Analysis"
   ]
  },
  {
   "cell_type": "code",
   "execution_count": 3,
   "metadata": {},
   "outputs": [],
   "source": [
    "# Uncomment code below to install packages\n",
    "# install.packages(tidyverse)\n",
    "# install.packages(tidymodels)"
   ]
  },
  {
   "cell_type": "code",
   "execution_count": 4,
   "metadata": {},
   "outputs": [
    {
     "name": "stderr",
     "output_type": "stream",
     "text": [
      "── \u001b[1mAttaching packages\u001b[22m ─────────────────────────────────────── tidyverse 1.3.0 ──\n",
      "\n",
      "\u001b[32m✔\u001b[39m \u001b[34mggplot2\u001b[39m 3.3.2     \u001b[32m✔\u001b[39m \u001b[34mpurrr  \u001b[39m 0.3.4\n",
      "\u001b[32m✔\u001b[39m \u001b[34mtibble \u001b[39m 3.0.3     \u001b[32m✔\u001b[39m \u001b[34mdplyr  \u001b[39m 1.0.2\n",
      "\u001b[32m✔\u001b[39m \u001b[34mtidyr  \u001b[39m 1.1.2     \u001b[32m✔\u001b[39m \u001b[34mstringr\u001b[39m 1.4.0\n",
      "\u001b[32m✔\u001b[39m \u001b[34mreadr  \u001b[39m 1.3.1     \u001b[32m✔\u001b[39m \u001b[34mforcats\u001b[39m 0.5.0\n",
      "\n",
      "Warning message:\n",
      "“package ‘ggplot2’ was built under R version 4.0.1”\n",
      "Warning message:\n",
      "“package ‘tibble’ was built under R version 4.0.2”\n",
      "Warning message:\n",
      "“package ‘tidyr’ was built under R version 4.0.2”\n",
      "Warning message:\n",
      "“package ‘dplyr’ was built under R version 4.0.2”\n",
      "── \u001b[1mConflicts\u001b[22m ────────────────────────────────────────── tidyverse_conflicts() ──\n",
      "\u001b[31m✖\u001b[39m \u001b[34mdplyr\u001b[39m::\u001b[32mfilter()\u001b[39m masks \u001b[34mstats\u001b[39m::filter()\n",
      "\u001b[31m✖\u001b[39m \u001b[34mdplyr\u001b[39m::\u001b[32mlag()\u001b[39m    masks \u001b[34mstats\u001b[39m::lag()\n",
      "\n",
      "Warning message:\n",
      "“package ‘tidymodels’ was built under R version 4.0.2”\n",
      "── \u001b[1mAttaching packages\u001b[22m ────────────────────────────────────── tidymodels 0.1.1 ──\n",
      "\n",
      "\u001b[32m✔\u001b[39m \u001b[34mbroom    \u001b[39m 0.7.0      \u001b[32m✔\u001b[39m \u001b[34mrecipes  \u001b[39m 0.1.13\n",
      "\u001b[32m✔\u001b[39m \u001b[34mdials    \u001b[39m 0.0.9      \u001b[32m✔\u001b[39m \u001b[34mrsample  \u001b[39m 0.0.7 \n",
      "\u001b[32m✔\u001b[39m \u001b[34minfer    \u001b[39m 0.5.4      \u001b[32m✔\u001b[39m \u001b[34mtune     \u001b[39m 0.1.1 \n",
      "\u001b[32m✔\u001b[39m \u001b[34mmodeldata\u001b[39m 0.0.2      \u001b[32m✔\u001b[39m \u001b[34mworkflows\u001b[39m 0.2.0 \n",
      "\u001b[32m✔\u001b[39m \u001b[34mparsnip  \u001b[39m 0.1.3      \u001b[32m✔\u001b[39m \u001b[34myardstick\u001b[39m 0.0.7 \n",
      "\n",
      "Warning message:\n",
      "“package ‘broom’ was built under R version 4.0.2”\n",
      "Warning message:\n",
      "“package ‘dials’ was built under R version 4.0.2”\n",
      "Warning message:\n",
      "“package ‘infer’ was built under R version 4.0.3”\n",
      "Warning message:\n",
      "“package ‘modeldata’ was built under R version 4.0.1”\n",
      "Warning message:\n",
      "“package ‘parsnip’ was built under R version 4.0.2”\n",
      "Warning message:\n",
      "“package ‘recipes’ was built under R version 4.0.1”\n",
      "Warning message:\n",
      "“package ‘tune’ was built under R version 4.0.2”\n",
      "Warning message:\n",
      "“package ‘workflows’ was built under R version 4.0.2”\n",
      "Warning message:\n",
      "“package ‘yardstick’ was built under R version 4.0.2”\n",
      "── \u001b[1mConflicts\u001b[22m ───────────────────────────────────────── tidymodels_conflicts() ──\n",
      "\u001b[31m✖\u001b[39m \u001b[34mscales\u001b[39m::\u001b[32mdiscard()\u001b[39m masks \u001b[34mpurrr\u001b[39m::discard()\n",
      "\u001b[31m✖\u001b[39m \u001b[34mdplyr\u001b[39m::\u001b[32mfilter()\u001b[39m   masks \u001b[34mstats\u001b[39m::filter()\n",
      "\u001b[31m✖\u001b[39m \u001b[34mrecipes\u001b[39m::\u001b[32mfixed()\u001b[39m  masks \u001b[34mstringr\u001b[39m::fixed()\n",
      "\u001b[31m✖\u001b[39m \u001b[34mdplyr\u001b[39m::\u001b[32mlag()\u001b[39m      masks \u001b[34mstats\u001b[39m::lag()\n",
      "\u001b[31m✖\u001b[39m \u001b[34myardstick\u001b[39m::\u001b[32mspec()\u001b[39m masks \u001b[34mreadr\u001b[39m::spec()\n",
      "\u001b[31m✖\u001b[39m \u001b[34mrecipes\u001b[39m::\u001b[32mstep()\u001b[39m   masks \u001b[34mstats\u001b[39m::step()\n",
      "\n"
     ]
    }
   ],
   "source": [
    "# Import packages\n",
    "library(tidyverse)\n",
    "library(tidymodels)"
   ]
  },
  {
   "cell_type": "code",
   "execution_count": 5,
   "metadata": {},
   "outputs": [
    {
     "name": "stderr",
     "output_type": "stream",
     "text": [
      "Parsed with column specification:\n",
      "cols(\n",
      "  X1 = \u001b[32mcol_double()\u001b[39m,\n",
      "  X2 = \u001b[32mcol_double()\u001b[39m,\n",
      "  X3 = \u001b[32mcol_double()\u001b[39m,\n",
      "  X4 = \u001b[32mcol_double()\u001b[39m,\n",
      "  X5 = \u001b[32mcol_double()\u001b[39m,\n",
      "  X6 = \u001b[32mcol_double()\u001b[39m,\n",
      "  X7 = \u001b[32mcol_double()\u001b[39m,\n",
      "  X8 = \u001b[32mcol_double()\u001b[39m,\n",
      "  X9 = \u001b[32mcol_double()\u001b[39m\n",
      ")\n",
      "\n"
     ]
    },
    {
     "data": {
      "text/html": [
       "<table>\n",
       "<caption>A tibble: 6 × 9</caption>\n",
       "<thead>\n",
       "\t<tr><th scope=col>mean_ip</th><th scope=col>sd_ip</th><th scope=col>kurtosis_ip</th><th scope=col>skew_ip</th><th scope=col>mean_dmsnr</th><th scope=col>sd_dmsnr</th><th scope=col>kurtosis_dmsnr</th><th scope=col>skew_dmsnr</th><th scope=col>class</th></tr>\n",
       "\t<tr><th scope=col>&lt;dbl&gt;</th><th scope=col>&lt;dbl&gt;</th><th scope=col>&lt;dbl&gt;</th><th scope=col>&lt;dbl&gt;</th><th scope=col>&lt;dbl&gt;</th><th scope=col>&lt;dbl&gt;</th><th scope=col>&lt;dbl&gt;</th><th scope=col>&lt;dbl&gt;</th><th scope=col>&lt;fct&gt;</th></tr>\n",
       "</thead>\n",
       "<tbody>\n",
       "\t<tr><td>140.56250</td><td>55.68378</td><td>-0.23457141</td><td>-0.6996484</td><td>3.199833</td><td>19.11043</td><td> 7.975532</td><td> 74.24222</td><td>0</td></tr>\n",
       "\t<tr><td>102.50781</td><td>58.88243</td><td> 0.46531815</td><td>-0.5150879</td><td>1.677258</td><td>14.86015</td><td>10.576487</td><td>127.39358</td><td>0</td></tr>\n",
       "\t<tr><td>103.01562</td><td>39.34165</td><td> 0.32332837</td><td> 1.0511644</td><td>3.121237</td><td>21.74467</td><td> 7.735822</td><td> 63.17191</td><td>0</td></tr>\n",
       "\t<tr><td>136.75000</td><td>57.17845</td><td>-0.06841464</td><td>-0.6362384</td><td>3.642977</td><td>20.95928</td><td> 6.896499</td><td> 53.59366</td><td>0</td></tr>\n",
       "\t<tr><td> 88.72656</td><td>40.67223</td><td> 0.60086608</td><td> 1.1234917</td><td>1.178930</td><td>11.46872</td><td>14.269573</td><td>252.56731</td><td>0</td></tr>\n",
       "\t<tr><td> 93.57031</td><td>46.69811</td><td> 0.53190485</td><td> 0.4167211</td><td>1.636288</td><td>14.54507</td><td>10.621748</td><td>131.39400</td><td>0</td></tr>\n",
       "</tbody>\n",
       "</table>\n"
      ],
      "text/latex": [
       "A tibble: 6 × 9\n",
       "\\begin{tabular}{lllllllll}\n",
       " mean\\_ip & sd\\_ip & kurtosis\\_ip & skew\\_ip & mean\\_dmsnr & sd\\_dmsnr & kurtosis\\_dmsnr & skew\\_dmsnr & class\\\\\n",
       " <dbl> & <dbl> & <dbl> & <dbl> & <dbl> & <dbl> & <dbl> & <dbl> & <fct>\\\\\n",
       "\\hline\n",
       "\t 140.56250 & 55.68378 & -0.23457141 & -0.6996484 & 3.199833 & 19.11043 &  7.975532 &  74.24222 & 0\\\\\n",
       "\t 102.50781 & 58.88243 &  0.46531815 & -0.5150879 & 1.677258 & 14.86015 & 10.576487 & 127.39358 & 0\\\\\n",
       "\t 103.01562 & 39.34165 &  0.32332837 &  1.0511644 & 3.121237 & 21.74467 &  7.735822 &  63.17191 & 0\\\\\n",
       "\t 136.75000 & 57.17845 & -0.06841464 & -0.6362384 & 3.642977 & 20.95928 &  6.896499 &  53.59366 & 0\\\\\n",
       "\t  88.72656 & 40.67223 &  0.60086608 &  1.1234917 & 1.178930 & 11.46872 & 14.269573 & 252.56731 & 0\\\\\n",
       "\t  93.57031 & 46.69811 &  0.53190485 &  0.4167211 & 1.636288 & 14.54507 & 10.621748 & 131.39400 & 0\\\\\n",
       "\\end{tabular}\n"
      ],
      "text/markdown": [
       "\n",
       "A tibble: 6 × 9\n",
       "\n",
       "| mean_ip &lt;dbl&gt; | sd_ip &lt;dbl&gt; | kurtosis_ip &lt;dbl&gt; | skew_ip &lt;dbl&gt; | mean_dmsnr &lt;dbl&gt; | sd_dmsnr &lt;dbl&gt; | kurtosis_dmsnr &lt;dbl&gt; | skew_dmsnr &lt;dbl&gt; | class &lt;fct&gt; |\n",
       "|---|---|---|---|---|---|---|---|---|\n",
       "| 140.56250 | 55.68378 | -0.23457141 | -0.6996484 | 3.199833 | 19.11043 |  7.975532 |  74.24222 | 0 |\n",
       "| 102.50781 | 58.88243 |  0.46531815 | -0.5150879 | 1.677258 | 14.86015 | 10.576487 | 127.39358 | 0 |\n",
       "| 103.01562 | 39.34165 |  0.32332837 |  1.0511644 | 3.121237 | 21.74467 |  7.735822 |  63.17191 | 0 |\n",
       "| 136.75000 | 57.17845 | -0.06841464 | -0.6362384 | 3.642977 | 20.95928 |  6.896499 |  53.59366 | 0 |\n",
       "|  88.72656 | 40.67223 |  0.60086608 |  1.1234917 | 1.178930 | 11.46872 | 14.269573 | 252.56731 | 0 |\n",
       "|  93.57031 | 46.69811 |  0.53190485 |  0.4167211 | 1.636288 | 14.54507 | 10.621748 | 131.39400 | 0 |\n",
       "\n"
      ],
      "text/plain": [
       "  mean_ip   sd_ip    kurtosis_ip skew_ip    mean_dmsnr sd_dmsnr kurtosis_dmsnr\n",
       "1 140.56250 55.68378 -0.23457141 -0.6996484 3.199833   19.11043  7.975532     \n",
       "2 102.50781 58.88243  0.46531815 -0.5150879 1.677258   14.86015 10.576487     \n",
       "3 103.01562 39.34165  0.32332837  1.0511644 3.121237   21.74467  7.735822     \n",
       "4 136.75000 57.17845 -0.06841464 -0.6362384 3.642977   20.95928  6.896499     \n",
       "5  88.72656 40.67223  0.60086608  1.1234917 1.178930   11.46872 14.269573     \n",
       "6  93.57031 46.69811  0.53190485  0.4167211 1.636288   14.54507 10.621748     \n",
       "  skew_dmsnr class\n",
       "1  74.24222  0    \n",
       "2 127.39358  0    \n",
       "3  63.17191  0    \n",
       "4  53.59366  0    \n",
       "5 252.56731  0    \n",
       "6 131.39400  0    "
      ]
     },
     "metadata": {},
     "output_type": "display_data"
    }
   ],
   "source": [
    "# Read csv file\n",
    "# Source: https://archive.ics.uci.edu/ml/datasets/HTRU2\n",
    "htru_data <- read_csv('data/HTRU_2.csv', col_names = FALSE)\n",
    "\n",
    "# Adding column names: \n",
    "# 1. Mean of the integrated profile\n",
    "# 2. Standard deviation of the integrated profile\n",
    "# 3. Excess kurtosis of the integrated profile \n",
    "# 4. Skewness of the integrated profile\n",
    "# 5. Mean of the DM-SNR curve\n",
    "# 6. Standard deviation of the DM-SNR curve\n",
    "# 7. Excess kurtosis of the DM-SNR curve\n",
    "# 8. Skewness of the DM-SNR curve\n",
    "# 9. Class\n",
    "colnames(htru_data) <- c('mean_ip', 'sd_ip', 'kurtosis_ip', 'skew_ip', 'mean_dmsnr', 'sd_dmsnr', 'kurtosis_dmsnr', 'skew_dmsnr', 'class')\n",
    "htru_data <- htru_data %>% \n",
    "    mutate(class = as.factor(class)) # since class is a dummy variable that is either positive (1) or negative (0)\n",
    "head(htru_data)"
   ]
  },
  {
   "cell_type": "code",
<<<<<<< HEAD
   "execution_count": 6,
=======
   "execution_count": 18,
   "id": "9d020533",
>>>>>>> 6dce68572ec3b17a46c509892bcbb434c3652d83
   "metadata": {},
   "outputs": [
    {
     "name": "stdout",
     "output_type": "stream",
     "text": [
      "Rows: 13,424\n",
      "Columns: 9\n",
<<<<<<< HEAD
      "$ mean_ip        \u001b[3m\u001b[90m<dbl>\u001b[39m\u001b[23m 140.56250, 102.50781, 103.01562, 136.75000, 88.72656, …\n",
      "$ sd_ip          \u001b[3m\u001b[90m<dbl>\u001b[39m\u001b[23m 55.68378, 58.88243, 39.34165, 57.17845, 40.67223, 48.7…\n",
      "$ kurtosis_ip    \u001b[3m\u001b[90m<dbl>\u001b[39m\u001b[23m -0.234571412, 0.465318154, 0.323328365, -0.068414638, …\n",
      "$ skew_ip        \u001b[3m\u001b[90m<dbl>\u001b[39m\u001b[23m -0.69964840, -0.51508791, 1.05116443, -0.63623837, 1.1…\n",
      "$ mean_dmsnr     \u001b[3m\u001b[90m<dbl>\u001b[39m\u001b[23m 3.1998328, 1.6772575, 3.1212375, 3.6429766, 1.1789298,…\n",
      "$ sd_dmsnr       \u001b[3m\u001b[90m<dbl>\u001b[39m\u001b[23m 19.110426, 14.860146, 21.744669, 20.959280, 11.468720,…\n",
      "$ kurtosis_dmsnr \u001b[3m\u001b[90m<dbl>\u001b[39m\u001b[23m 7.975532, 10.576487, 7.735822, 6.896499, 14.269573, 19…\n",
      "$ skew_dmsnr     \u001b[3m\u001b[90m<dbl>\u001b[39m\u001b[23m 74.24222, 127.39358, 63.17191, 53.59366, 252.56731, 47…\n",
      "$ class          \u001b[3m\u001b[90m<fct>\u001b[39m\u001b[23m 0, 0, 0, 0, 0, 0, 0, 0, 0, 0, 0, 0, 0, 0, 0, 1, 0, 0, …\n",
      "Rows: 4,474\n",
      "Columns: 9\n",
      "$ mean_ip        \u001b[3m\u001b[90m<dbl>\u001b[39m\u001b[23m 93.57031, 107.25000, 142.07812, 136.09375, 100.89062, …\n",
      "$ sd_ip          \u001b[3m\u001b[90m<dbl>\u001b[39m\u001b[23m 46.69811, 52.62708, 45.28807, 51.69100, 51.89039, 53.8…\n",
      "$ kurtosis_ip    \u001b[3m\u001b[90m<dbl>\u001b[39m\u001b[23m 0.53190485, 0.45268802, -0.32032843, -0.04590893, 0.62…\n",
      "$ skew_ip        \u001b[3m\u001b[90m<dbl>\u001b[39m\u001b[23m 0.41672112, 0.17034738, 0.28395251, -0.27181639, -0.02…\n",
      "$ mean_dmsnr     \u001b[3m\u001b[90m<dbl>\u001b[39m\u001b[23m 1.6362876, 2.3319398, 5.3762542, 9.3428094, 3.8837793,…\n",
      "$ sd_dmsnr       \u001b[3m\u001b[90m<dbl>\u001b[39m\u001b[23m 14.54507, 14.48685, 29.00990, 38.09640, 23.04527, 27.0…\n",
      "$ kurtosis_dmsnr \u001b[3m\u001b[90m<dbl>\u001b[39m\u001b[23m 10.621748, 9.001004, 6.076266, 4.345438, 6.953168, 6.6…\n",
      "$ skew_dmsnr     \u001b[3m\u001b[90m<dbl>\u001b[39m\u001b[23m 131.39400, 107.97251, 37.83139, 18.67365, 52.27944, 45…\n",
      "$ class          \u001b[3m\u001b[90m<fct>\u001b[39m\u001b[23m 0, 0, 0, 0, 0, 0, 0, 0, 0, 0, 1, 0, 0, 0, 0, 0, 0, 0, …\n"
=======
      "$ mean_ip        \u001b[3m\u001b[90m<dbl>\u001b[39m\u001b[23m 140.56250, 102.50781, 103.01562, 136.75000, 88.72656, 1…\n",
      "$ sd_ip          \u001b[3m\u001b[90m<dbl>\u001b[39m\u001b[23m 55.68378, 58.88243, 39.34165, 57.17845, 40.67223, 48.76…\n",
      "$ kurtosis_ip    \u001b[3m\u001b[90m<dbl>\u001b[39m\u001b[23m -0.234571412, 0.465318154, 0.323328365, -0.068414638, 0…\n",
      "$ skew_ip        \u001b[3m\u001b[90m<dbl>\u001b[39m\u001b[23m -0.69964840, -0.51508791, 1.05116443, -0.63623837, 1.12…\n",
      "$ mean_dmsnr     \u001b[3m\u001b[90m<dbl>\u001b[39m\u001b[23m 3.1998328, 1.6772575, 3.1212375, 3.6429766, 1.1789298, …\n",
      "$ sd_dmsnr       \u001b[3m\u001b[90m<dbl>\u001b[39m\u001b[23m 19.110426, 14.860146, 21.744669, 20.959280, 11.468720, …\n",
      "$ kurtosis_dmsnr \u001b[3m\u001b[90m<dbl>\u001b[39m\u001b[23m 7.975532, 10.576487, 7.735822, 6.896499, 14.269573, 19.…\n",
      "$ skew_dmsnr     \u001b[3m\u001b[90m<dbl>\u001b[39m\u001b[23m 74.24222, 127.39358, 63.17191, 53.59366, 252.56731, 479…\n",
      "$ class          \u001b[3m\u001b[90m<fct>\u001b[39m\u001b[23m 0, 0, 0, 0, 0, 0, 0, 0, 0, 0, 0, 0, 0, 0, 0, 0, 0, 1, 0…\n",
      "Rows: 4,475\n",
      "Columns: 9\n",
      "$ mean_ip        \u001b[3m\u001b[90m<dbl>\u001b[39m\u001b[23m 93.57031, 107.25000, 117.36719, 106.64844, 102.61719, 1…\n",
      "$ sd_ip          \u001b[3m\u001b[90m<dbl>\u001b[39m\u001b[23m 46.69811, 52.62708, 53.90861, 56.36718, 49.69235, 53.62…\n",
      "$ kurtosis_ip    \u001b[3m\u001b[90m<dbl>\u001b[39m\u001b[23m 0.53190485, 0.45268802, 0.25795344, 0.37835507, 0.23043…\n",
      "$ skew_ip        \u001b[3m\u001b[90m<dbl>\u001b[39m\u001b[23m 0.416721117, 0.170347382, -0.405049077, -0.266371607, 0…\n",
      "$ mean_dmsnr     \u001b[3m\u001b[90m<dbl>\u001b[39m\u001b[23m 1.6362876, 2.3319398, 6.0183946, 2.4364549, 1.4891304, …\n",
      "$ sd_dmsnr       \u001b[3m\u001b[90m<dbl>\u001b[39m\u001b[23m 14.545074, 14.486853, 24.766123, 18.405371, 16.004411, …\n",
      "$ kurtosis_dmsnr \u001b[3m\u001b[90m<dbl>\u001b[39m\u001b[23m 10.621748, 9.001004, 4.807783, 9.378660, 12.646535, 8.8…\n",
      "$ skew_dmsnr     \u001b[3m\u001b[90m<dbl>\u001b[39m\u001b[23m 131.394004, 107.972506, 25.522616, 96.860225, 171.83290…\n",
      "$ class          \u001b[3m\u001b[90m<fct>\u001b[39m\u001b[23m 0, 0, 0, 0, 0, 0, 0, 0, 0, 0, 0, 0, 0, 0, 0, 0, 0, 0, 0…\n"
>>>>>>> 6dce68572ec3b17a46c509892bcbb434c3652d83
     ]
    }
   ],
   "source": [
    "# 17,898 total examples; 1,639 positive examples; 16,259 negative examples\n",
    "# Decide to split dataset into 75% training and 25% testing\n",
    "\n",
    "htru_split <- initial_split(htru_data, prop = 0.75, strata = class)\n",
    "htru_train <- training(htru_split)\n",
    "htru_test <- testing(htru_split)\n",
    "\n",
    "glimpse(htru_train)\n",
    "glimpse(htru_test)"
   ]
  },
  {
   "cell_type": "markdown",
   "metadata": {
    "tags": []
   },
   "source": [
    "### Preliminary Summary"
   ]
  },
  {
   "cell_type": "code",
<<<<<<< HEAD
   "execution_count": 20,
=======
   "execution_count": 19,
   "id": "7eaa5926-df52-43a7-a522-b65aad3eab66",
>>>>>>> 6dce68572ec3b17a46c509892bcbb434c3652d83
   "metadata": {},
   "outputs": [
    {
     "name": "stderr",
     "output_type": "stream",
     "text": [
      "`summarise()` ungrouping output (override with `.groups` argument)\n",
      "\n"
     ]
    },
    {
     "data": {
      "text/html": [
       "<table>\n",
       "<caption>A tibble: 2 × 2</caption>\n",
       "<thead>\n",
       "\t<tr><th scope=col>class</th><th scope=col>n</th></tr>\n",
       "\t<tr><th scope=col>&lt;fct&gt;</th><th scope=col>&lt;int&gt;</th></tr>\n",
       "</thead>\n",
       "<tbody>\n",
<<<<<<< HEAD
       "\t<tr><td>0</td><td>12174</td></tr>\n",
       "\t<tr><td>1</td><td> 1250</td></tr>\n",
=======
       "\t<tr><td>0</td><td>12189</td></tr>\n",
       "\t<tr><td>1</td><td> 1234</td></tr>\n",
>>>>>>> 6dce68572ec3b17a46c509892bcbb434c3652d83
       "</tbody>\n",
       "</table>\n"
      ],
      "text/latex": [
       "A tibble: 2 × 2\n",
       "\\begin{tabular}{ll}\n",
       " class & n\\\\\n",
       " <fct> & <int>\\\\\n",
       "\\hline\n",
<<<<<<< HEAD
       "\t 0 & 12174\\\\\n",
       "\t 1 &  1250\\\\\n",
=======
       "\t 0 & 12189\\\\\n",
       "\t 1 &  1234\\\\\n",
>>>>>>> 6dce68572ec3b17a46c509892bcbb434c3652d83
       "\\end{tabular}\n"
      ],
      "text/markdown": [
       "\n",
       "A tibble: 2 × 2\n",
       "\n",
       "| class &lt;fct&gt; | n &lt;int&gt; |\n",
       "|---|---|\n",
<<<<<<< HEAD
       "| 0 | 12174 |\n",
       "| 1 |  1250 |\n",
=======
       "| 0 | 12189 |\n",
       "| 1 |  1234 |\n",
>>>>>>> 6dce68572ec3b17a46c509892bcbb434c3652d83
       "\n"
      ],
      "text/plain": [
       "  class n    \n",
<<<<<<< HEAD
       "1 0     12174\n",
       "2 1      1250"
      ]
     },
     "metadata": {},
     "output_type": "display_data"
    },
    {
     "name": "stderr",
     "output_type": "stream",
     "text": [
      "`summarise()` ungrouping output (override with `.groups` argument)\n",
      "\n"
     ]
    },
    {
     "data": {
      "text/html": [
       "<table>\n",
       "<caption>A tibble: 32 × 3</caption>\n",
       "<thead>\n",
       "\t<tr><th scope=col>class</th><th scope=col>variable_max_min</th><th scope=col>Value</th></tr>\n",
       "\t<tr><th scope=col>&lt;fct&gt;</th><th scope=col>&lt;chr&gt;</th><th scope=col>&lt;dbl&gt;</th></tr>\n",
       "</thead>\n",
       "<tbody>\n",
       "\t<tr><td>0</td><td>max_mean_ip       </td><td> 192.61718750</td></tr>\n",
       "\t<tr><td>0</td><td>max_sd_ip         </td><td>  98.77891067</td></tr>\n",
       "\t<tr><td>0</td><td>max_kurtosis_ip   </td><td>   4.78578590</td></tr>\n",
       "\t<tr><td>0</td><td>max_skew_ip       </td><td>  24.87242875</td></tr>\n",
       "\t<tr><td>0</td><td>max_mean_dmsnr    </td><td> 223.39214050</td></tr>\n",
       "\t<tr><td>0</td><td>max_sd_dmsnr      </td><td> 110.64221060</td></tr>\n",
       "\t<tr><td>0</td><td>max_kurtosis_dmsnr</td><td>  34.53984419</td></tr>\n",
       "\t<tr><td>0</td><td>max_skew_dmsnr    </td><td>1191.00083700</td></tr>\n",
       "\t<tr><td>0</td><td>min_mean_ip       </td><td>  27.60156250</td></tr>\n",
       "\t<tr><td>0</td><td>min_sd_ip         </td><td>  28.69871445</td></tr>\n",
       "\t<tr><td>0</td><td>min_kurtosis_ip   </td><td>  -1.87601118</td></tr>\n",
       "\t<tr><td>0</td><td>min_skew_ip       </td><td>  -1.78188830</td></tr>\n",
       "\t<tr><td>0</td><td>min_mean_dmsnr    </td><td>   0.21321070</td></tr>\n",
       "\t<tr><td>0</td><td>min_sd_dmsnr      </td><td>   7.37043217</td></tr>\n",
       "\t<tr><td>0</td><td>min_kurtosis_dmsnr</td><td>  -2.81235331</td></tr>\n",
       "\t<tr><td>0</td><td>min_skew_dmsnr    </td><td>  -1.97697560</td></tr>\n",
       "\t<tr><td>1</td><td>max_mean_ip       </td><td> 139.25781250</td></tr>\n",
       "\t<tr><td>1</td><td>max_sd_ip         </td><td>  83.79690851</td></tr>\n",
       "\t<tr><td>1</td><td>max_kurtosis_ip   </td><td>   8.06952205</td></tr>\n",
       "\t<tr><td>1</td><td>max_skew_ip       </td><td>  68.10162173</td></tr>\n",
       "\t<tr><td>1</td><td>max_mean_dmsnr    </td><td> 184.52591970</td></tr>\n",
       "\t<tr><td>1</td><td>max_sd_dmsnr      </td><td> 109.65534510</td></tr>\n",
       "\t<tr><td>1</td><td>max_kurtosis_dmsnr</td><td>  30.88388219</td></tr>\n",
       "\t<tr><td>1</td><td>max_skew_dmsnr    </td><td>1017.38318000</td></tr>\n",
       "\t<tr><td>1</td><td>min_mean_ip       </td><td>   5.81250000</td></tr>\n",
       "\t<tr><td>1</td><td>min_sd_ip         </td><td>  24.77204176</td></tr>\n",
       "\t<tr><td>1</td><td>min_kurtosis_ip   </td><td>  -0.09488784</td></tr>\n",
       "\t<tr><td>1</td><td>min_skew_ip       </td><td>  -1.13906886</td></tr>\n",
       "\t<tr><td>1</td><td>min_mean_dmsnr    </td><td>   0.48662207</td></tr>\n",
       "\t<tr><td>1</td><td>min_sd_dmsnr      </td><td>   7.65862281</td></tr>\n",
       "\t<tr><td>1</td><td>min_kurtosis_dmsnr</td><td>  -1.78537658</td></tr>\n",
       "\t<tr><td>1</td><td>min_skew_dmsnr    </td><td>  -1.87468319</td></tr>\n",
       "</tbody>\n",
       "</table>\n"
      ],
      "text/latex": [
       "A tibble: 32 × 3\n",
       "\\begin{tabular}{lll}\n",
       " class & variable\\_max\\_min & Value\\\\\n",
       " <fct> & <chr> & <dbl>\\\\\n",
       "\\hline\n",
       "\t 0 & max\\_mean\\_ip        &  192.61718750\\\\\n",
       "\t 0 & max\\_sd\\_ip          &   98.77891067\\\\\n",
       "\t 0 & max\\_kurtosis\\_ip    &    4.78578590\\\\\n",
       "\t 0 & max\\_skew\\_ip        &   24.87242875\\\\\n",
       "\t 0 & max\\_mean\\_dmsnr     &  223.39214050\\\\\n",
       "\t 0 & max\\_sd\\_dmsnr       &  110.64221060\\\\\n",
       "\t 0 & max\\_kurtosis\\_dmsnr &   34.53984419\\\\\n",
       "\t 0 & max\\_skew\\_dmsnr     & 1191.00083700\\\\\n",
       "\t 0 & min\\_mean\\_ip        &   27.60156250\\\\\n",
       "\t 0 & min\\_sd\\_ip          &   28.69871445\\\\\n",
       "\t 0 & min\\_kurtosis\\_ip    &   -1.87601118\\\\\n",
       "\t 0 & min\\_skew\\_ip        &   -1.78188830\\\\\n",
       "\t 0 & min\\_mean\\_dmsnr     &    0.21321070\\\\\n",
       "\t 0 & min\\_sd\\_dmsnr       &    7.37043217\\\\\n",
       "\t 0 & min\\_kurtosis\\_dmsnr &   -2.81235331\\\\\n",
       "\t 0 & min\\_skew\\_dmsnr     &   -1.97697560\\\\\n",
       "\t 1 & max\\_mean\\_ip        &  139.25781250\\\\\n",
       "\t 1 & max\\_sd\\_ip          &   83.79690851\\\\\n",
       "\t 1 & max\\_kurtosis\\_ip    &    8.06952205\\\\\n",
       "\t 1 & max\\_skew\\_ip        &   68.10162173\\\\\n",
       "\t 1 & max\\_mean\\_dmsnr     &  184.52591970\\\\\n",
       "\t 1 & max\\_sd\\_dmsnr       &  109.65534510\\\\\n",
       "\t 1 & max\\_kurtosis\\_dmsnr &   30.88388219\\\\\n",
       "\t 1 & max\\_skew\\_dmsnr     & 1017.38318000\\\\\n",
       "\t 1 & min\\_mean\\_ip        &    5.81250000\\\\\n",
       "\t 1 & min\\_sd\\_ip          &   24.77204176\\\\\n",
       "\t 1 & min\\_kurtosis\\_ip    &   -0.09488784\\\\\n",
       "\t 1 & min\\_skew\\_ip        &   -1.13906886\\\\\n",
       "\t 1 & min\\_mean\\_dmsnr     &    0.48662207\\\\\n",
       "\t 1 & min\\_sd\\_dmsnr       &    7.65862281\\\\\n",
       "\t 1 & min\\_kurtosis\\_dmsnr &   -1.78537658\\\\\n",
       "\t 1 & min\\_skew\\_dmsnr     &   -1.87468319\\\\\n",
       "\\end{tabular}\n"
      ],
      "text/markdown": [
       "\n",
       "A tibble: 32 × 3\n",
       "\n",
       "| class &lt;fct&gt; | variable_max_min &lt;chr&gt; | Value &lt;dbl&gt; |\n",
       "|---|---|---|\n",
       "| 0 | max_mean_ip        |  192.61718750 |\n",
       "| 0 | max_sd_ip          |   98.77891067 |\n",
       "| 0 | max_kurtosis_ip    |    4.78578590 |\n",
       "| 0 | max_skew_ip        |   24.87242875 |\n",
       "| 0 | max_mean_dmsnr     |  223.39214050 |\n",
       "| 0 | max_sd_dmsnr       |  110.64221060 |\n",
       "| 0 | max_kurtosis_dmsnr |   34.53984419 |\n",
       "| 0 | max_skew_dmsnr     | 1191.00083700 |\n",
       "| 0 | min_mean_ip        |   27.60156250 |\n",
       "| 0 | min_sd_ip          |   28.69871445 |\n",
       "| 0 | min_kurtosis_ip    |   -1.87601118 |\n",
       "| 0 | min_skew_ip        |   -1.78188830 |\n",
       "| 0 | min_mean_dmsnr     |    0.21321070 |\n",
       "| 0 | min_sd_dmsnr       |    7.37043217 |\n",
       "| 0 | min_kurtosis_dmsnr |   -2.81235331 |\n",
       "| 0 | min_skew_dmsnr     |   -1.97697560 |\n",
       "| 1 | max_mean_ip        |  139.25781250 |\n",
       "| 1 | max_sd_ip          |   83.79690851 |\n",
       "| 1 | max_kurtosis_ip    |    8.06952205 |\n",
       "| 1 | max_skew_ip        |   68.10162173 |\n",
       "| 1 | max_mean_dmsnr     |  184.52591970 |\n",
       "| 1 | max_sd_dmsnr       |  109.65534510 |\n",
       "| 1 | max_kurtosis_dmsnr |   30.88388219 |\n",
       "| 1 | max_skew_dmsnr     | 1017.38318000 |\n",
       "| 1 | min_mean_ip        |    5.81250000 |\n",
       "| 1 | min_sd_ip          |   24.77204176 |\n",
       "| 1 | min_kurtosis_ip    |   -0.09488784 |\n",
       "| 1 | min_skew_ip        |   -1.13906886 |\n",
       "| 1 | min_mean_dmsnr     |    0.48662207 |\n",
       "| 1 | min_sd_dmsnr       |    7.65862281 |\n",
       "| 1 | min_kurtosis_dmsnr |   -1.78537658 |\n",
       "| 1 | min_skew_dmsnr     |   -1.87468319 |\n",
       "\n"
      ],
      "text/plain": [
       "   class variable_max_min   Value        \n",
       "1  0     max_mean_ip         192.61718750\n",
       "2  0     max_sd_ip            98.77891067\n",
       "3  0     max_kurtosis_ip       4.78578590\n",
       "4  0     max_skew_ip          24.87242875\n",
       "5  0     max_mean_dmsnr      223.39214050\n",
       "6  0     max_sd_dmsnr        110.64221060\n",
       "7  0     max_kurtosis_dmsnr   34.53984419\n",
       "8  0     max_skew_dmsnr     1191.00083700\n",
       "9  0     min_mean_ip          27.60156250\n",
       "10 0     min_sd_ip            28.69871445\n",
       "11 0     min_kurtosis_ip      -1.87601118\n",
       "12 0     min_skew_ip          -1.78188830\n",
       "13 0     min_mean_dmsnr        0.21321070\n",
       "14 0     min_sd_dmsnr          7.37043217\n",
       "15 0     min_kurtosis_dmsnr   -2.81235331\n",
       "16 0     min_skew_dmsnr       -1.97697560\n",
       "17 1     max_mean_ip         139.25781250\n",
       "18 1     max_sd_ip            83.79690851\n",
       "19 1     max_kurtosis_ip       8.06952205\n",
       "20 1     max_skew_ip          68.10162173\n",
       "21 1     max_mean_dmsnr      184.52591970\n",
       "22 1     max_sd_dmsnr        109.65534510\n",
       "23 1     max_kurtosis_dmsnr   30.88388219\n",
       "24 1     max_skew_dmsnr     1017.38318000\n",
       "25 1     min_mean_ip           5.81250000\n",
       "26 1     min_sd_ip            24.77204176\n",
       "27 1     min_kurtosis_ip      -0.09488784\n",
       "28 1     min_skew_ip          -1.13906886\n",
       "29 1     min_mean_dmsnr        0.48662207\n",
       "30 1     min_sd_dmsnr          7.65862281\n",
       "31 1     min_kurtosis_dmsnr   -1.78537658\n",
       "32 1     min_skew_dmsnr       -1.87468319"
=======
       "1 0     12189\n",
       "2 1      1234"
>>>>>>> 6dce68572ec3b17a46c509892bcbb434c3652d83
      ]
     },
     "metadata": {},
     "output_type": "display_data"
    }
   ],
   "source": [
    "positive_candidates <- htru_train %>% \n",
    "    group_by(class) %>% \n",
    "    summarize(n = n())\n",
    "positive_candidates\n",
<<<<<<< HEAD
    "# We can see that there are 1263 positive pulsar candidates in the training data \n",
    "mean_htru_train<- htru_train %>% \n",
    "    group_by(class) %>% \n",
    "    summarize(max_mean_ip = max(mean_ip, na.rm = TRUE),\n",
    "             max_sd_ip = max(sd_ip, na.rm = TRUE),\n",
    "             max_kurtosis_ip = max(kurtosis_ip, na.rm = TRUE),\n",
    "             max_skew_ip = max(skew_ip, na.rm = TRUE),\n",
    "             max_mean_dmsnr = max(mean_dmsnr, na.rm = TRUE),\n",
    "             max_sd_dmsnr = max(sd_dmsnr, na.rm = TRUE),\n",
    "             max_kurtosis_dmsnr = max(kurtosis_dmsnr, na.rm = TRUE),\n",
    "             max_skew_dmsnr = max(skew_dmsnr, na.rm = TRUE),\n",
    "             min_mean_ip = min(mean_ip, na.rm = TRUE),\n",
    "             min_sd_ip = min(sd_ip, na.rm = TRUE),\n",
    "             min_kurtosis_ip = min(kurtosis_ip, na.rm = TRUE),\n",
    "             min_skew_ip = min(skew_ip, na.rm = TRUE),\n",
    "             min_mean_dmsnr = min(mean_dmsnr, na.rm = TRUE),\n",
    "             min_sd_dmsnr = min(sd_dmsnr, na.rm = TRUE),\n",
    "             min_kurtosis_dmsnr = min(kurtosis_dmsnr, na.rm = TRUE),\n",
    "             min_skew_dmsnr = min(skew_dmsnr, na.rm = TRUE))%>%\n",
    "             pivot_longer(cols = -class,\n",
    "                 names_to = 'variable_max_min',\n",
    "                 values_to = 'Value') \n",
    "mean_htru_train"
=======
    "# We can see that there are 1263 positive pulsar candidates and 12,160 negative candidates in the training data "
>>>>>>> 6dce68572ec3b17a46c509892bcbb434c3652d83
   ]
  },
  {
   "cell_type": "markdown",
   "metadata": {
    "tags": []
   },
   "source": [
    "### Preliminary Visualization"
   ]
  },
  {
   "cell_type": "code",
   "execution_count": 13,
   "metadata": {},
   "outputs": [
    {
     "name": "stderr",
     "output_type": "stream",
     "text": [
      "`stat_bin()` using `bins = 30`. Pick better value with `binwidth`.\n",
      "\n",
      "`stat_bin()` using `bins = 30`. Pick better value with `binwidth`.\n",
      "\n",
      "`stat_bin()` using `bins = 30`. Pick better value with `binwidth`.\n",
      "\n",
      "`stat_bin()` using `bins = 30`. Pick better value with `binwidth`.\n",
      "\n",
      "`stat_bin()` using `bins = 30`. Pick better value with `binwidth`.\n",
      "\n",
      "`stat_bin()` using `bins = 30`. Pick better value with `binwidth`.\n",
      "\n",
      "`stat_bin()` using `bins = 30`. Pick better value with `binwidth`.\n",
      "\n",
      "`stat_bin()` using `bins = 30`. Pick better value with `binwidth`.\n",
      "\n"
     ]
    },
    {
     "data": {
      "image/png": "iVBORw0KGgoAAAANSUhEUgAAC7gAAALQCAMAAAA39M2vAAADAFBMVEUAAAABAQECAgIDAwME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\ngBSguAMAAAApQHEHAAAAUuD/ARfvzjRWxCOcAAAAAElFTkSuQmCC",
      "text/plain": [
       "plot without title"
      ]
     },
     "metadata": {
      "image/png": {
       "height": 360,
       "width": 1500
      }
     },
     "output_type": "display_data"
    },
    {
     "data": {
      "image/png": "iVBORw0KGgoAAAANSUhEUgAAC7gAAALQCAMAAAA39M2vAAADAFBMVEUAAAABAQECAgIDAwME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\nTkSuQmCC",
      "text/plain": [
       "plot without title"
      ]
     },
     "metadata": {
      "image/png": {
       "height": 360,
       "width": 1500
      }
     },
     "output_type": "display_data"
    }
   ],
   "source": [
    "library(gridExtra)\n",
    "options(repr.plot.width=25, repr.plot.height=6)\n",
    "\n",
    "vis_mean_ip <- ggplot(htru_train, aes(x = mean_ip)) +\n",
    "    geom_histogram() + \n",
    "    labs(x = 'Integrated Profile Mean')\n",
    "vis_sd_ip <- ggplot(htru_train, aes(x = sd_ip)) +\n",
    "    geom_histogram() + \n",
    "    labs(x = 'Integrated Profile Standard Deviation')\n",
    "vis_kurtosis_ip <- ggplot(htru_train, aes(x = kurtosis_ip)) +\n",
    "    geom_histogram() + \n",
    "    labs(x = 'Integrated Profile Kurtosis')\n",
    "vis_skew_ip <- ggplot(htru_train, aes(x = kurtosis_ip)) +\n",
    "    geom_histogram() + \n",
    "    labs(x = 'Integrated Profile Skewness')\n",
    "vis_mean_dmsnr <- ggplot(htru_train, aes(x = mean_dmsnr)) +\n",
    "    geom_histogram() + \n",
    "    labs(x = 'DM-SNR Mean')\n",
    "vis_sd_dmsnr <- ggplot(htru_train, aes(x = sd_dmsnr)) +\n",
    "    geom_histogram() + \n",
    "    labs(x = 'DM-SNR Standard Deviation')\n",
    "vis_kurtosis_dmsnr <- ggplot(htru_train, aes(x = kurtosis_dmsnr)) +\n",
    "    geom_histogram() + \n",
    "    labs(x = 'DM-SNR Kurtosis')\n",
    "vis_skew_dmsnr <- ggplot(htru_train, aes(x = kurtosis_dmsnr)) +\n",
    "    geom_histogram() + \n",
    "    labs(x = 'DMSNR Skewness')\n",
    "\n",
    "grid.arrange(vis_mean_ip, vis_sd_ip, vis_kurtosis_ip, vis_skew_ip, nrow = 1, top = 'Data Distributions for Integrated Profile')\n",
    "grid.arrange(vis_mean_dmsnr, vis_sd_dmsnr, vis_kurtosis_dmsnr, vis_skew_dmsnr, nrow = 1, top = 'Data Distributions for DM-SNR')"
   ]
  },
  {
   "cell_type": "markdown",
   "metadata": {},
   "source": [
    "## Methods\n",
    "One way we will visualize our results is by using a scatter plot. We will plot the class data predicted on the same plot as our model and the actual classes from the testing data, differentiating them by colour. Using this visualization, we will be able to observe the accuracy of our model with just a cursory glance. "
   ]
  },
  {
   "cell_type": "markdown",
   "metadata": {},
   "source": [
    "## Expected Outcomes and Significance"
   ]
  },
  {
   "cell_type": "markdown",
   "id": "d314a62c-1108-42c3-bdd5-7ce92316e4c0",
   "metadata": {},
   "source": [
    "## References"
   ]
  }
 ],
 "metadata": {
  "kernelspec": {
   "display_name": "R",
   "language": "R",
   "name": "ir"
  },
  "language_info": {
   "codemirror_mode": "r",
   "file_extension": ".r",
   "mimetype": "text/x-r-source",
   "name": "R",
   "pygments_lexer": "r",
   "version": "4.0.0"
  }
 },
 "nbformat": 4,
 "nbformat_minor": 5
}
