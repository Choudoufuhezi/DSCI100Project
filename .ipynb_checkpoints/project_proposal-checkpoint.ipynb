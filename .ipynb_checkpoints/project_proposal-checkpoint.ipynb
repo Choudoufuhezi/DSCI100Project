{
 "cells": [
  {
   "cell_type": "markdown",
   "metadata": {},
   "source": [
    "# DSCI 100 Project Proposal: Pulsars"
   ]
  },
  {
   "cell_type": "markdown",
   "metadata": {},
   "source": [
    "## Introduction"
   ]
  },
  {
   "cell_type": "markdown",
   "metadata": {},
   "source": [
    "## Preliminary Exploratory Data Analysis"
   ]
  },
  {
   "cell_type": "code",
   "execution_count": 28,
   "metadata": {},
   "outputs": [],
   "source": [
    "# Uncomment code below to install packages\n",
    "# install.packages(tidyverse)\n",
    "# install.packages(tidymodels)"
   ]
  },
  {
   "cell_type": "code",
   "execution_count": 29,
   "metadata": {},
   "outputs": [],
   "source": [
    "# Import packages\n",
    "library(tidyverse)\n",
    "library(tidymodels)"
   ]
  },
  {
   "cell_type": "code",
   "execution_count": 35,
   "metadata": {},
   "outputs": [
    {
     "name": "stderr",
     "output_type": "stream",
     "text": [
      "Parsed with column specification:\n",
      "cols(\n",
      "  X1 = \u001b[32mcol_double()\u001b[39m,\n",
      "  X2 = \u001b[32mcol_double()\u001b[39m,\n",
      "  X3 = \u001b[32mcol_double()\u001b[39m,\n",
      "  X4 = \u001b[32mcol_double()\u001b[39m,\n",
      "  X5 = \u001b[32mcol_double()\u001b[39m,\n",
      "  X6 = \u001b[32mcol_double()\u001b[39m,\n",
      "  X7 = \u001b[32mcol_double()\u001b[39m,\n",
      "  X8 = \u001b[32mcol_double()\u001b[39m,\n",
      "  X9 = \u001b[32mcol_double()\u001b[39m\n",
      ")\n",
      "\n"
     ]
    },
    {
     "data": {
      "text/html": [
       "<table>\n",
       "<caption>A tibble: 6 × 9</caption>\n",
       "<thead>\n",
       "\t<tr><th scope=col>mean_ip</th><th scope=col>sd_ip</th><th scope=col>kurtosis_ip</th><th scope=col>skew_ip</th><th scope=col>mean_dmsnr</th><th scope=col>sd_dmsnr</th><th scope=col>kurtosis_dmsnr</th><th scope=col>skew_dmsnr</th><th scope=col>class</th></tr>\n",
       "\t<tr><th scope=col>&lt;dbl&gt;</th><th scope=col>&lt;dbl&gt;</th><th scope=col>&lt;dbl&gt;</th><th scope=col>&lt;dbl&gt;</th><th scope=col>&lt;dbl&gt;</th><th scope=col>&lt;dbl&gt;</th><th scope=col>&lt;dbl&gt;</th><th scope=col>&lt;dbl&gt;</th><th scope=col>&lt;fct&gt;</th></tr>\n",
       "</thead>\n",
       "<tbody>\n",
       "\t<tr><td>140.56250</td><td>55.68378</td><td>-0.23457141</td><td>-0.6996484</td><td>3.199833</td><td>19.11043</td><td> 7.975532</td><td> 74.24222</td><td>0</td></tr>\n",
       "\t<tr><td>102.50781</td><td>58.88243</td><td> 0.46531815</td><td>-0.5150879</td><td>1.677258</td><td>14.86015</td><td>10.576487</td><td>127.39358</td><td>0</td></tr>\n",
       "\t<tr><td>103.01562</td><td>39.34165</td><td> 0.32332837</td><td> 1.0511644</td><td>3.121237</td><td>21.74467</td><td> 7.735822</td><td> 63.17191</td><td>0</td></tr>\n",
       "\t<tr><td>136.75000</td><td>57.17845</td><td>-0.06841464</td><td>-0.6362384</td><td>3.642977</td><td>20.95928</td><td> 6.896499</td><td> 53.59366</td><td>0</td></tr>\n",
       "\t<tr><td> 88.72656</td><td>40.67223</td><td> 0.60086608</td><td> 1.1234917</td><td>1.178930</td><td>11.46872</td><td>14.269573</td><td>252.56731</td><td>0</td></tr>\n",
       "\t<tr><td> 93.57031</td><td>46.69811</td><td> 0.53190485</td><td> 0.4167211</td><td>1.636288</td><td>14.54507</td><td>10.621748</td><td>131.39400</td><td>0</td></tr>\n",
       "</tbody>\n",
       "</table>\n"
      ],
      "text/latex": [
       "A tibble: 6 × 9\n",
       "\\begin{tabular}{lllllllll}\n",
       " mean\\_ip & sd\\_ip & kurtosis\\_ip & skew\\_ip & mean\\_dmsnr & sd\\_dmsnr & kurtosis\\_dmsnr & skew\\_dmsnr & class\\\\\n",
       " <dbl> & <dbl> & <dbl> & <dbl> & <dbl> & <dbl> & <dbl> & <dbl> & <fct>\\\\\n",
       "\\hline\n",
       "\t 140.56250 & 55.68378 & -0.23457141 & -0.6996484 & 3.199833 & 19.11043 &  7.975532 &  74.24222 & 0\\\\\n",
       "\t 102.50781 & 58.88243 &  0.46531815 & -0.5150879 & 1.677258 & 14.86015 & 10.576487 & 127.39358 & 0\\\\\n",
       "\t 103.01562 & 39.34165 &  0.32332837 &  1.0511644 & 3.121237 & 21.74467 &  7.735822 &  63.17191 & 0\\\\\n",
       "\t 136.75000 & 57.17845 & -0.06841464 & -0.6362384 & 3.642977 & 20.95928 &  6.896499 &  53.59366 & 0\\\\\n",
       "\t  88.72656 & 40.67223 &  0.60086608 &  1.1234917 & 1.178930 & 11.46872 & 14.269573 & 252.56731 & 0\\\\\n",
       "\t  93.57031 & 46.69811 &  0.53190485 &  0.4167211 & 1.636288 & 14.54507 & 10.621748 & 131.39400 & 0\\\\\n",
       "\\end{tabular}\n"
      ],
      "text/markdown": [
       "\n",
       "A tibble: 6 × 9\n",
       "\n",
       "| mean_ip &lt;dbl&gt; | sd_ip &lt;dbl&gt; | kurtosis_ip &lt;dbl&gt; | skew_ip &lt;dbl&gt; | mean_dmsnr &lt;dbl&gt; | sd_dmsnr &lt;dbl&gt; | kurtosis_dmsnr &lt;dbl&gt; | skew_dmsnr &lt;dbl&gt; | class &lt;fct&gt; |\n",
       "|---|---|---|---|---|---|---|---|---|\n",
       "| 140.56250 | 55.68378 | -0.23457141 | -0.6996484 | 3.199833 | 19.11043 |  7.975532 |  74.24222 | 0 |\n",
       "| 102.50781 | 58.88243 |  0.46531815 | -0.5150879 | 1.677258 | 14.86015 | 10.576487 | 127.39358 | 0 |\n",
       "| 103.01562 | 39.34165 |  0.32332837 |  1.0511644 | 3.121237 | 21.74467 |  7.735822 |  63.17191 | 0 |\n",
       "| 136.75000 | 57.17845 | -0.06841464 | -0.6362384 | 3.642977 | 20.95928 |  6.896499 |  53.59366 | 0 |\n",
       "|  88.72656 | 40.67223 |  0.60086608 |  1.1234917 | 1.178930 | 11.46872 | 14.269573 | 252.56731 | 0 |\n",
       "|  93.57031 | 46.69811 |  0.53190485 |  0.4167211 | 1.636288 | 14.54507 | 10.621748 | 131.39400 | 0 |\n",
       "\n"
      ],
      "text/plain": [
       "  mean_ip   sd_ip    kurtosis_ip skew_ip    mean_dmsnr sd_dmsnr kurtosis_dmsnr\n",
       "1 140.56250 55.68378 -0.23457141 -0.6996484 3.199833   19.11043  7.975532     \n",
       "2 102.50781 58.88243  0.46531815 -0.5150879 1.677258   14.86015 10.576487     \n",
       "3 103.01562 39.34165  0.32332837  1.0511644 3.121237   21.74467  7.735822     \n",
       "4 136.75000 57.17845 -0.06841464 -0.6362384 3.642977   20.95928  6.896499     \n",
       "5  88.72656 40.67223  0.60086608  1.1234917 1.178930   11.46872 14.269573     \n",
       "6  93.57031 46.69811  0.53190485  0.4167211 1.636288   14.54507 10.621748     \n",
       "  skew_dmsnr class\n",
       "1  74.24222  0    \n",
       "2 127.39358  0    \n",
       "3  63.17191  0    \n",
       "4  53.59366  0    \n",
       "5 252.56731  0    \n",
       "6 131.39400  0    "
      ]
     },
     "metadata": {},
     "output_type": "display_data"
    },
    {
     "data": {
      "text/html": [
       "<table>\n",
       "<caption>A tibble: 6 × 3</caption>\n",
       "<thead>\n",
       "\t<tr><th scope=col>class</th><th scope=col>Variables</th><th scope=col>Value</th></tr>\n",
       "\t<tr><th scope=col>&lt;fct&gt;</th><th scope=col>&lt;chr&gt;</th><th scope=col>&lt;dbl&gt;</th></tr>\n",
       "</thead>\n",
       "<tbody>\n",
       "\t<tr><td>0</td><td>mean_ip    </td><td>140.5625000</td></tr>\n",
       "\t<tr><td>0</td><td>sd_ip      </td><td> 55.6837821</td></tr>\n",
       "\t<tr><td>0</td><td>kurtosis_ip</td><td> -0.2345714</td></tr>\n",
       "\t<tr><td>0</td><td>skew_ip    </td><td> -0.6996484</td></tr>\n",
       "\t<tr><td>0</td><td>mean_dmsnr </td><td>  3.1998328</td></tr>\n",
       "\t<tr><td>0</td><td>sd_dmsnr   </td><td> 19.1104263</td></tr>\n",
       "</tbody>\n",
       "</table>\n"
      ],
      "text/latex": [
       "A tibble: 6 × 3\n",
       "\\begin{tabular}{lll}\n",
       " class & Variables & Value\\\\\n",
       " <fct> & <chr> & <dbl>\\\\\n",
       "\\hline\n",
       "\t 0 & mean\\_ip     & 140.5625000\\\\\n",
       "\t 0 & sd\\_ip       &  55.6837821\\\\\n",
       "\t 0 & kurtosis\\_ip &  -0.2345714\\\\\n",
       "\t 0 & skew\\_ip     &  -0.6996484\\\\\n",
       "\t 0 & mean\\_dmsnr  &   3.1998328\\\\\n",
       "\t 0 & sd\\_dmsnr    &  19.1104263\\\\\n",
       "\\end{tabular}\n"
      ],
      "text/markdown": [
       "\n",
       "A tibble: 6 × 3\n",
       "\n",
       "| class &lt;fct&gt; | Variables &lt;chr&gt; | Value &lt;dbl&gt; |\n",
       "|---|---|---|\n",
       "| 0 | mean_ip     | 140.5625000 |\n",
       "| 0 | sd_ip       |  55.6837821 |\n",
       "| 0 | kurtosis_ip |  -0.2345714 |\n",
       "| 0 | skew_ip     |  -0.6996484 |\n",
       "| 0 | mean_dmsnr  |   3.1998328 |\n",
       "| 0 | sd_dmsnr    |  19.1104263 |\n",
       "\n"
      ],
      "text/plain": [
       "  class Variables   Value      \n",
       "1 0     mean_ip     140.5625000\n",
       "2 0     sd_ip        55.6837821\n",
       "3 0     kurtosis_ip  -0.2345714\n",
       "4 0     skew_ip      -0.6996484\n",
       "5 0     mean_dmsnr    3.1998328\n",
       "6 0     sd_dmsnr     19.1104263"
      ]
     },
     "metadata": {},
     "output_type": "display_data"
    }
   ],
   "source": [
    "# Read csv file\n",
    "# Source: https://archive.ics.uci.edu/ml/datasets/HTRU2\n",
    "htru_data <- read_csv('data/HTRU_2.csv', col_names = FALSE)\n",
    "\n",
    "# Adding column names: \n",
    "# 1. Mean of the integrated profile\n",
    "# 2. Standard deviation of the integrated profile\n",
    "# 3. Excess kurtosis of the integrated profile \n",
    "# 4. Skewness of the integrated profile\n",
    "# 5. Mean of the DM-SNR curve\n",
    "# 6. Standard deviation of the DM-SNR curve\n",
    "# 7. Excess kurtosis of the DM-SNR curve\n",
    "# 8. Skewness of the DM-SNR curve\n",
    "# 9. Class\n",
    "colnames(htru_data) <- c('mean_ip', 'sd_ip', 'kurtosis_ip', 'skew_ip', 'mean_dmsnr', 'sd_dmsnr', 'kurtosis_dmsnr', 'skew_dmsnr', 'class')\n",
    "htru_data <- htru_data %>% \n",
    "    mutate(class = as.factor(class)) # since class is a dummy variable that is either positive (1) or negative (0)\n",
    "head(htru_data)\n",
    "\n",
    "\n",
    "\n",
    "#!!!im not sure !!!!\n",
    "htru_data_tidy <- htru_data %>%\n",
    "             pivot_longer(cols = -class,\n",
    "                 names_to = 'Variables',\n",
    "                 values_to = 'Value')\n",
    "head(htru_data_tidy)"
   ]
  },
  {
   "cell_type": "code",
   "execution_count": 36,
   "metadata": {},
   "outputs": [
    {
     "name": "stdout",
     "output_type": "stream",
     "text": [
      "Rows: 13,424\n",
      "Columns: 9\n",
      "$ mean_ip        \u001b[3m\u001b[90m<dbl>\u001b[39m\u001b[23m 102.50781, 103.01562, 136.75000, 88.72656, 93.57031, 1…\n",
      "$ sd_ip          \u001b[3m\u001b[90m<dbl>\u001b[39m\u001b[23m 58.88243, 39.34165, 57.17845, 40.67223, 46.69811, 48.7…\n",
      "$ kurtosis_ip    \u001b[3m\u001b[90m<dbl>\u001b[39m\u001b[23m 0.465318154, 0.323328365, -0.068414638, 0.600866079, 0…\n",
      "$ skew_ip        \u001b[3m\u001b[90m<dbl>\u001b[39m\u001b[23m -0.51508791, 1.05116443, -0.63623837, 1.12349169, 0.41…\n",
      "$ mean_dmsnr     \u001b[3m\u001b[90m<dbl>\u001b[39m\u001b[23m 1.6772575, 3.1212375, 3.6429766, 1.1789298, 1.6362876,…\n",
      "$ sd_dmsnr       \u001b[3m\u001b[90m<dbl>\u001b[39m\u001b[23m 14.860146, 21.744669, 20.959280, 11.468720, 14.545074,…\n",
      "$ kurtosis_dmsnr \u001b[3m\u001b[90m<dbl>\u001b[39m\u001b[23m 10.576487, 7.735822, 6.896499, 14.269573, 10.621748, 1…\n",
      "$ skew_dmsnr     \u001b[3m\u001b[90m<dbl>\u001b[39m\u001b[23m 127.39358, 63.17191, 53.59366, 252.56731, 131.39400, 4…\n",
      "$ class          \u001b[3m\u001b[90m<fct>\u001b[39m\u001b[23m 0, 0, 0, 0, 0, 0, 0, 0, 0, 0, 0, 0, 0, 0, 1, 0, 0, 0, …\n",
      "Rows: 4,474\n",
      "Columns: 9\n",
      "$ mean_ip        \u001b[3m\u001b[90m<dbl>\u001b[39m\u001b[23m 140.56250, 107.25781, 117.94531, 138.17969, 114.36719,…\n",
      "$ sd_ip          \u001b[3m\u001b[90m<dbl>\u001b[39m\u001b[23m 55.68378, 39.49649, 45.50658, 51.52448, 51.94572, 41.3…\n",
      "$ kurtosis_ip    \u001b[3m\u001b[90m<dbl>\u001b[39m\u001b[23m -0.23457141, 0.46588196, 0.32543756, -0.03185233, -0.0…\n",
      "$ skew_ip        \u001b[3m\u001b[90m<dbl>\u001b[39m\u001b[23m -0.699648398, 1.162877124, 0.661459458, 0.046797173, -…\n",
      "$ mean_dmsnr     \u001b[3m\u001b[90m<dbl>\u001b[39m\u001b[23m 3.1998328, 4.0794314, 2.8361204, 6.3302676, 2.7382943,…\n",
      "$ sd_dmsnr       \u001b[3m\u001b[90m<dbl>\u001b[39m\u001b[23m 19.110426, 24.980418, 23.118350, 31.576347, 17.191891,…\n",
      "$ kurtosis_dmsnr \u001b[3m\u001b[90m<dbl>\u001b[39m\u001b[23m 7.9755318, 7.3970799, 8.9432119, 5.1559399, 9.0506125,…\n",
      "$ skew_dmsnr     \u001b[3m\u001b[90m<dbl>\u001b[39m\u001b[23m 74.242225, 57.784738, 82.475592, 26.143310, 96.611903,…\n",
      "$ class          \u001b[3m\u001b[90m<fct>\u001b[39m\u001b[23m 0, 0, 0, 0, 0, 0, 0, 0, 0, 0, 0, 0, 0, 0, 0, 0, 0, 0, …\n"
     ]
    }
   ],
   "source": [
    "# 17,898 total examples; 1,639 positive examples; 16,259 negative examples\n",
    "# Decide to split dataset into 75% training and 25% testing\n",
    "\n",
    "htru_split <- initial_split(htru_data, prop = 0.75, strata = class)\n",
    "htru_train <- training(htru_split)\n",
    "htru_test <- testing(htru_split)\n",
    "\n",
    "glimpse(htru_train)\n",
    "glimpse(htru_test)"
   ]
  },
  {
   "cell_type": "markdown",
   "metadata": {
    "tags": []
   },
   "source": [
    "### Preliminary Summary"
   ]
  },
  {
   "cell_type": "code",
   "execution_count": 40,
   "metadata": {},
   "outputs": [
    {
     "name": "stderr",
     "output_type": "stream",
     "text": [
      "`summarise()` ungrouping output (override with `.groups` argument)\n",
      "\n"
     ]
    },
    {
     "data": {
      "text/html": [
       "<table>\n",
       "<caption>A tibble: 2 × 2</caption>\n",
       "<thead>\n",
       "\t<tr><th scope=col>class</th><th scope=col>n</th></tr>\n",
       "\t<tr><th scope=col>&lt;fct&gt;</th><th scope=col>&lt;int&gt;</th></tr>\n",
       "</thead>\n",
       "<tbody>\n",
       "\t<tr><td>0</td><td>12178</td></tr>\n",
       "\t<tr><td>1</td><td> 1246</td></tr>\n",
       "</tbody>\n",
       "</table>\n"
      ],
      "text/latex": [
       "A tibble: 2 × 2\n",
       "\\begin{tabular}{ll}\n",
       " class & n\\\\\n",
       " <fct> & <int>\\\\\n",
       "\\hline\n",
       "\t 0 & 12178\\\\\n",
       "\t 1 &  1246\\\\\n",
       "\\end{tabular}\n"
      ],
      "text/markdown": [
       "\n",
       "A tibble: 2 × 2\n",
       "\n",
       "| class &lt;fct&gt; | n &lt;int&gt; |\n",
       "|---|---|\n",
       "| 0 | 12178 |\n",
       "| 1 |  1246 |\n",
       "\n"
      ],
      "text/plain": [
       "  class n    \n",
       "1 0     12178\n",
       "2 1      1246"
      ]
     },
     "metadata": {},
     "output_type": "display_data"
    },
    {
     "name": "stderr",
     "output_type": "stream",
     "text": [
      "`summarise()` ungrouping output (override with `.groups` argument)\n",
      "\n"
     ]
    },
    {
     "data": {
      "text/html": [
       "<table>\n",
       "<caption>A tibble: 32 × 3</caption>\n",
       "<thead>\n",
       "\t<tr><th scope=col>class</th><th scope=col>variable_max_min</th><th scope=col>Value</th></tr>\n",
       "\t<tr><th scope=col>&lt;fct&gt;</th><th scope=col>&lt;chr&gt;</th><th scope=col>&lt;dbl&gt;</th></tr>\n",
       "</thead>\n",
       "<tbody>\n",
       "\t<tr><td>0</td><td>max_mean_ip       </td><td> 192.61718750</td></tr>\n",
       "\t<tr><td>0</td><td>max_sd_ip         </td><td>  91.80862790</td></tr>\n",
       "\t<tr><td>0</td><td>max_kurtosis_ip   </td><td>   4.78578590</td></tr>\n",
       "\t<tr><td>0</td><td>max_skew_ip       </td><td>  24.87242875</td></tr>\n",
       "\t<tr><td>0</td><td>max_mean_dmsnr    </td><td> 223.39214050</td></tr>\n",
       "\t<tr><td>0</td><td>max_sd_dmsnr      </td><td> 110.64221060</td></tr>\n",
       "\t<tr><td>0</td><td>max_kurtosis_dmsnr</td><td>  34.53984419</td></tr>\n",
       "\t<tr><td>0</td><td>max_skew_dmsnr    </td><td>1191.00083700</td></tr>\n",
       "\t<tr><td>0</td><td>min_mean_ip       </td><td>  27.60156250</td></tr>\n",
       "\t<tr><td>0</td><td>min_sd_ip         </td><td>  28.69871445</td></tr>\n",
       "\t<tr><td>0</td><td>min_kurtosis_ip   </td><td>  -1.87601118</td></tr>\n",
       "\t<tr><td>0</td><td>min_skew_ip       </td><td>  -1.79188598</td></tr>\n",
       "\t<tr><td>0</td><td>min_mean_dmsnr    </td><td>   0.21321070</td></tr>\n",
       "\t<tr><td>0</td><td>min_sd_dmsnr      </td><td>   7.37043217</td></tr>\n",
       "\t<tr><td>0</td><td>min_kurtosis_dmsnr</td><td>  -3.13926961</td></tr>\n",
       "\t<tr><td>0</td><td>min_skew_dmsnr    </td><td>  -1.97697560</td></tr>\n",
       "\t<tr><td>1</td><td>max_mean_ip       </td><td> 137.92968750</td></tr>\n",
       "\t<tr><td>1</td><td>max_sd_ip         </td><td>  83.79690851</td></tr>\n",
       "\t<tr><td>1</td><td>max_kurtosis_ip   </td><td>   8.06952205</td></tr>\n",
       "\t<tr><td>1</td><td>max_skew_ip       </td><td>  68.10162173</td></tr>\n",
       "\t<tr><td>1</td><td>max_mean_dmsnr    </td><td> 199.57775920</td></tr>\n",
       "\t<tr><td>1</td><td>max_sd_dmsnr      </td><td> 109.65534510</td></tr>\n",
       "\t<tr><td>1</td><td>max_kurtosis_dmsnr</td><td>  30.88388219</td></tr>\n",
       "\t<tr><td>1</td><td>max_skew_dmsnr    </td><td>1017.38318000</td></tr>\n",
       "\t<tr><td>1</td><td>min_mean_ip       </td><td>   5.81250000</td></tr>\n",
       "\t<tr><td>1</td><td>min_sd_ip         </td><td>  24.79161196</td></tr>\n",
       "\t<tr><td>1</td><td>min_kurtosis_ip   </td><td>  -0.09488784</td></tr>\n",
       "\t<tr><td>1</td><td>min_skew_ip       </td><td>  -0.96008249</td></tr>\n",
       "\t<tr><td>1</td><td>min_mean_dmsnr    </td><td>   0.48662207</td></tr>\n",
       "\t<tr><td>1</td><td>min_sd_dmsnr      </td><td>   7.65862281</td></tr>\n",
       "\t<tr><td>1</td><td>min_kurtosis_dmsnr</td><td>  -1.86231995</td></tr>\n",
       "\t<tr><td>1</td><td>min_skew_dmsnr    </td><td>  -1.87468319</td></tr>\n",
       "</tbody>\n",
       "</table>\n"
      ],
      "text/latex": [
       "A tibble: 32 × 3\n",
       "\\begin{tabular}{lll}\n",
       " class & variable\\_max\\_min & Value\\\\\n",
       " <fct> & <chr> & <dbl>\\\\\n",
       "\\hline\n",
       "\t 0 & max\\_mean\\_ip        &  192.61718750\\\\\n",
       "\t 0 & max\\_sd\\_ip          &   91.80862790\\\\\n",
       "\t 0 & max\\_kurtosis\\_ip    &    4.78578590\\\\\n",
       "\t 0 & max\\_skew\\_ip        &   24.87242875\\\\\n",
       "\t 0 & max\\_mean\\_dmsnr     &  223.39214050\\\\\n",
       "\t 0 & max\\_sd\\_dmsnr       &  110.64221060\\\\\n",
       "\t 0 & max\\_kurtosis\\_dmsnr &   34.53984419\\\\\n",
       "\t 0 & max\\_skew\\_dmsnr     & 1191.00083700\\\\\n",
       "\t 0 & min\\_mean\\_ip        &   27.60156250\\\\\n",
       "\t 0 & min\\_sd\\_ip          &   28.69871445\\\\\n",
       "\t 0 & min\\_kurtosis\\_ip    &   -1.87601118\\\\\n",
       "\t 0 & min\\_skew\\_ip        &   -1.79188598\\\\\n",
       "\t 0 & min\\_mean\\_dmsnr     &    0.21321070\\\\\n",
       "\t 0 & min\\_sd\\_dmsnr       &    7.37043217\\\\\n",
       "\t 0 & min\\_kurtosis\\_dmsnr &   -3.13926961\\\\\n",
       "\t 0 & min\\_skew\\_dmsnr     &   -1.97697560\\\\\n",
       "\t 1 & max\\_mean\\_ip        &  137.92968750\\\\\n",
       "\t 1 & max\\_sd\\_ip          &   83.79690851\\\\\n",
       "\t 1 & max\\_kurtosis\\_ip    &    8.06952205\\\\\n",
       "\t 1 & max\\_skew\\_ip        &   68.10162173\\\\\n",
       "\t 1 & max\\_mean\\_dmsnr     &  199.57775920\\\\\n",
       "\t 1 & max\\_sd\\_dmsnr       &  109.65534510\\\\\n",
       "\t 1 & max\\_kurtosis\\_dmsnr &   30.88388219\\\\\n",
       "\t 1 & max\\_skew\\_dmsnr     & 1017.38318000\\\\\n",
       "\t 1 & min\\_mean\\_ip        &    5.81250000\\\\\n",
       "\t 1 & min\\_sd\\_ip          &   24.79161196\\\\\n",
       "\t 1 & min\\_kurtosis\\_ip    &   -0.09488784\\\\\n",
       "\t 1 & min\\_skew\\_ip        &   -0.96008249\\\\\n",
       "\t 1 & min\\_mean\\_dmsnr     &    0.48662207\\\\\n",
       "\t 1 & min\\_sd\\_dmsnr       &    7.65862281\\\\\n",
       "\t 1 & min\\_kurtosis\\_dmsnr &   -1.86231995\\\\\n",
       "\t 1 & min\\_skew\\_dmsnr     &   -1.87468319\\\\\n",
       "\\end{tabular}\n"
      ],
      "text/markdown": [
       "\n",
       "A tibble: 32 × 3\n",
       "\n",
       "| class &lt;fct&gt; | variable_max_min &lt;chr&gt; | Value &lt;dbl&gt; |\n",
       "|---|---|---|\n",
       "| 0 | max_mean_ip        |  192.61718750 |\n",
       "| 0 | max_sd_ip          |   91.80862790 |\n",
       "| 0 | max_kurtosis_ip    |    4.78578590 |\n",
       "| 0 | max_skew_ip        |   24.87242875 |\n",
       "| 0 | max_mean_dmsnr     |  223.39214050 |\n",
       "| 0 | max_sd_dmsnr       |  110.64221060 |\n",
       "| 0 | max_kurtosis_dmsnr |   34.53984419 |\n",
       "| 0 | max_skew_dmsnr     | 1191.00083700 |\n",
       "| 0 | min_mean_ip        |   27.60156250 |\n",
       "| 0 | min_sd_ip          |   28.69871445 |\n",
       "| 0 | min_kurtosis_ip    |   -1.87601118 |\n",
       "| 0 | min_skew_ip        |   -1.79188598 |\n",
       "| 0 | min_mean_dmsnr     |    0.21321070 |\n",
       "| 0 | min_sd_dmsnr       |    7.37043217 |\n",
       "| 0 | min_kurtosis_dmsnr |   -3.13926961 |\n",
       "| 0 | min_skew_dmsnr     |   -1.97697560 |\n",
       "| 1 | max_mean_ip        |  137.92968750 |\n",
       "| 1 | max_sd_ip          |   83.79690851 |\n",
       "| 1 | max_kurtosis_ip    |    8.06952205 |\n",
       "| 1 | max_skew_ip        |   68.10162173 |\n",
       "| 1 | max_mean_dmsnr     |  199.57775920 |\n",
       "| 1 | max_sd_dmsnr       |  109.65534510 |\n",
       "| 1 | max_kurtosis_dmsnr |   30.88388219 |\n",
       "| 1 | max_skew_dmsnr     | 1017.38318000 |\n",
       "| 1 | min_mean_ip        |    5.81250000 |\n",
       "| 1 | min_sd_ip          |   24.79161196 |\n",
       "| 1 | min_kurtosis_ip    |   -0.09488784 |\n",
       "| 1 | min_skew_ip        |   -0.96008249 |\n",
       "| 1 | min_mean_dmsnr     |    0.48662207 |\n",
       "| 1 | min_sd_dmsnr       |    7.65862281 |\n",
       "| 1 | min_kurtosis_dmsnr |   -1.86231995 |\n",
       "| 1 | min_skew_dmsnr     |   -1.87468319 |\n",
       "\n"
      ],
      "text/plain": [
       "   class variable_max_min   Value        \n",
       "1  0     max_mean_ip         192.61718750\n",
       "2  0     max_sd_ip            91.80862790\n",
       "3  0     max_kurtosis_ip       4.78578590\n",
       "4  0     max_skew_ip          24.87242875\n",
       "5  0     max_mean_dmsnr      223.39214050\n",
       "6  0     max_sd_dmsnr        110.64221060\n",
       "7  0     max_kurtosis_dmsnr   34.53984419\n",
       "8  0     max_skew_dmsnr     1191.00083700\n",
       "9  0     min_mean_ip          27.60156250\n",
       "10 0     min_sd_ip            28.69871445\n",
       "11 0     min_kurtosis_ip      -1.87601118\n",
       "12 0     min_skew_ip          -1.79188598\n",
       "13 0     min_mean_dmsnr        0.21321070\n",
       "14 0     min_sd_dmsnr          7.37043217\n",
       "15 0     min_kurtosis_dmsnr   -3.13926961\n",
       "16 0     min_skew_dmsnr       -1.97697560\n",
       "17 1     max_mean_ip         137.92968750\n",
       "18 1     max_sd_ip            83.79690851\n",
       "19 1     max_kurtosis_ip       8.06952205\n",
       "20 1     max_skew_ip          68.10162173\n",
       "21 1     max_mean_dmsnr      199.57775920\n",
       "22 1     max_sd_dmsnr        109.65534510\n",
       "23 1     max_kurtosis_dmsnr   30.88388219\n",
       "24 1     max_skew_dmsnr     1017.38318000\n",
       "25 1     min_mean_ip           5.81250000\n",
       "26 1     min_sd_ip            24.79161196\n",
       "27 1     min_kurtosis_ip      -0.09488784\n",
       "28 1     min_skew_ip          -0.96008249\n",
       "29 1     min_mean_dmsnr        0.48662207\n",
       "30 1     min_sd_dmsnr          7.65862281\n",
       "31 1     min_kurtosis_dmsnr   -1.86231995\n",
       "32 1     min_skew_dmsnr       -1.87468319"
      ]
     },
     "metadata": {},
     "output_type": "display_data"
    },
    {
     "ename": "ERROR",
     "evalue": "Error in htru_train.info(): could not find function \"htru_train.info\"\n",
     "output_type": "error",
     "traceback": [
      "Error in htru_train.info(): could not find function \"htru_train.info\"\nTraceback:\n"
     ]
    }
   ],
   "source": [
    "positive_candidates <- htru_train %>% \n",
    "    group_by(class) %>% \n",
    "    summarize(n = n())\n",
    "positive_candidates\n",
    "# We can see that there are 1263 positive pulsar candidates in the training data \n",
    "mean_htru_train<- htru_train %>% \n",
    "    group_by(class) %>% \n",
    "    summarize(max_mean_ip = max(mean_ip, na.rm = TRUE),\n",
    "             max_sd_ip = max(sd_ip, na.rm = TRUE),\n",
    "             max_kurtosis_ip = max(kurtosis_ip, na.rm = TRUE),\n",
    "             max_skew_ip = max(skew_ip, na.rm = TRUE),\n",
    "             max_mean_dmsnr = max(mean_dmsnr, na.rm = TRUE),\n",
    "             max_sd_dmsnr = max(sd_dmsnr, na.rm = TRUE),\n",
    "             max_kurtosis_dmsnr = max(kurtosis_dmsnr, na.rm = TRUE),\n",
    "             max_skew_dmsnr = max(skew_dmsnr, na.rm = TRUE),\n",
    "             min_mean_ip = min(mean_ip, na.rm = TRUE),\n",
    "             min_sd_ip = min(sd_ip, na.rm = TRUE),\n",
    "             min_kurtosis_ip = min(kurtosis_ip, na.rm = TRUE),\n",
    "             min_skew_ip = min(skew_ip, na.rm = TRUE),\n",
    "             min_mean_dmsnr = min(mean_dmsnr, na.rm = TRUE),\n",
    "             min_sd_dmsnr = min(sd_dmsnr, na.rm = TRUE),\n",
    "             min_kurtosis_dmsnr = min(kurtosis_dmsnr, na.rm = TRUE),\n",
    "             min_skew_dmsnr = min(skew_dmsnr, na.rm = TRUE))%>%\n",
    "             pivot_longer(cols = -class,\n",
    "                 names_to = 'variable_max_min',\n",
    "                 values_to = 'Value') \n",
    "mean_htru_train\n",
    "#At the beginning of the study, it was reasonable to consider that the critical points (extremes) of these data \n",
    "#could be correlated with whether or not they were judged to be pulsars"
   ]
  },
  {
   "cell_type": "markdown",
   "metadata": {
    "tags": []
   },
   "source": [
    "### Preliminary Visualization"
   ]
  },
  {
   "cell_type": "code",
   "execution_count": 38,
   "metadata": {},
   "outputs": [
    {
     "name": "stderr",
     "output_type": "stream",
     "text": [
      "\n",
      "Attaching package: ‘gridExtra’\n",
      "\n",
      "\n",
      "The following object is masked from ‘package:dplyr’:\n",
      "\n",
      "    combine\n",
      "\n",
      "\n",
      "`stat_bin()` using `bins = 30`. Pick better value with `binwidth`.\n",
      "\n",
      "`stat_bin()` using `bins = 30`. Pick better value with `binwidth`.\n",
      "\n",
      "`stat_bin()` using `bins = 30`. Pick better value with `binwidth`.\n",
      "\n",
      "`stat_bin()` using `bins = 30`. Pick better value with `binwidth`.\n",
      "\n",
      "`stat_bin()` using `bins = 30`. Pick better value with `binwidth`.\n",
      "\n",
      "`stat_bin()` using `bins = 30`. Pick better value with `binwidth`.\n",
      "\n",
      "`stat_bin()` using `bins = 30`. Pick better value with `binwidth`.\n",
      "\n",
      "`stat_bin()` using `bins = 30`. Pick better value with `binwidth`.\n",
      "\n"
     ]
    },
    {
     "data": {
      "image/png": "[encoded data removed]",
      "text/plain": [
       "plot without title"
      ]
     },
     "metadata": {
      "image/png": {
       "height": 360,
       "width": 1500
      }
     },
     "output_type": "display_data"
    },
    {
     "data": {
      "image/png": "[encoded data removed]",
      "text/plain": [
       "plot without title"
      ]
     },
     "metadata": {
      "image/png": {
       "height": 360,
       "width": 1500
      }
     },
     "output_type": "display_data"
    }
   ],
   "source": [
    "library(gridExtra)\n",
    "options(repr.plot.width=25, repr.plot.height=6)\n",
    "\n",
    "vis_mean_ip <- ggplot(htru_train, aes(x = mean_ip)) +\n",
    "    geom_histogram() + \n",
    "    labs(x = 'Integrated Profile Mean')\n",
    "vis_sd_ip <- ggplot(htru_train, aes(x = sd_ip)) +\n",
    "    geom_histogram() + \n",
    "    labs(x = 'Integrated Profile Standard Deviation')\n",
    "vis_kurtosis_ip <- ggplot(htru_train, aes(x = kurtosis_ip)) +\n",
    "    geom_histogram() + \n",
    "    labs(x = 'Integrated Profile Kurtosis')\n",
    "vis_skew_ip <- ggplot(htru_train, aes(x = kurtosis_ip)) +\n",
    "    geom_histogram() + \n",
    "    labs(x = 'Integrated Profile Skewness')\n",
    "vis_mean_dmsnr <- ggplot(htru_train, aes(x = mean_dmsnr)) +\n",
    "    geom_histogram() + \n",
    "    labs(x = 'DM-SNR Mean')\n",
    "vis_sd_dmsnr <- ggplot(htru_train, aes(x = sd_dmsnr)) +\n",
    "    geom_histogram() + \n",
    "    labs(x = 'DM-SNR Standard Deviation')\n",
    "vis_kurtosis_dmsnr <- ggplot(htru_train, aes(x = kurtosis_dmsnr)) +\n",
    "    geom_histogram() + \n",
    "    labs(x = 'DM-SNR Kurtosis')\n",
    "vis_skew_dmsnr <- ggplot(htru_train, aes(x = kurtosis_dmsnr)) +\n",
    "    geom_histogram() + \n",
    "    labs(x = 'DMSNR Skewness')\n",
    "\n",
    "grid.arrange(vis_mean_ip, vis_sd_ip, vis_kurtosis_ip, vis_skew_ip, nrow = 1, top = 'Data Distributions for Integrated Profile')\n",
    "grid.arrange(vis_mean_dmsnr, vis_sd_dmsnr, vis_kurtosis_dmsnr, vis_skew_dmsnr, nrow = 1, top = 'Data Distributions for DM-SNR')"
   ]
  },
  {
   "cell_type": "markdown",
   "metadata": {},
   "source": [
    "## Methods"
   ]
  },
  {
   "cell_type": "markdown",
   "metadata": {},
   "source": [
    "## Expected Outcomes and Significance"
   ]
  },
  {
   "cell_type": "code",
   "execution_count": null,
   "metadata": {},
   "outputs": [],
   "source": []
  }
 ],
 "metadata": {
  "kernelspec": {
   "display_name": "R",
   "language": "R",
   "name": "ir"
  },
  "language_info": {
   "codemirror_mode": "r",
   "file_extension": ".r",
   "mimetype": "text/x-r-source",
   "name": "R",
   "pygments_lexer": "r",
   "version": "4.0.0"
  }
 },
 "nbformat": 4,
 "nbformat_minor": 5
}
